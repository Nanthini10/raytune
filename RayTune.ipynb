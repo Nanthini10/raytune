{
 "cells": [
  {
   "cell_type": "code",
   "execution_count": 1,
   "metadata": {},
   "outputs": [],
   "source": [
    "import argparse\n",
    "import logging\n",
    "import math\n",
    "import multiprocessing\n",
    "import os\n",
    "import sys\n",
    "import time\n",
    "from datetime import datetime\n",
    "\n",
    "import cupy\n",
    "import numpy as np\n",
    "import ray\n",
    "from ray import tune\n",
    "from ray.tune import track, trial\n",
    "from ray.tune.logger import TBXLogger\n",
    "from ray.tune.schedulers import (ASHAScheduler, AsyncHyperBandScheduler, PopulationBasedTraining)\n",
    "from ray.tune.utils import get_pinned_object, pin_in_object_store\n",
    "\n",
    "from rapids_csp import RapidsCloudML\n",
    "from rcml import dataset_csp\n",
    "\n",
    "_DEBUG = bool(os.environ.get(\"_DEBUG\", False))"
   ]
  },
  {
   "cell_type": "code",
   "execution_count": 2,
   "metadata": {},
   "outputs": [],
   "source": [
    "def configure_root_logger():\n",
    "\n",
    "    # cuml, cupy set up logging. Clear out the handlers\n",
    "    while logging.root.hasHandlers():\n",
    "        logging.root.removeHandler(logging.root.handlers[0])\n",
    "\n",
    "    # Configure a console handler to be debug only\n",
    "    ch = logging.StreamHandler(stream=sys.stdout)\n",
    "    ch.setLevel(logging.INFO)\n",
    "    ch.setFormatter(logging.Formatter(logging.BASIC_FORMAT))\n",
    "\n",
    "    # This must be before rapids_csp import\n",
    "    logging.basicConfig(level=logging.DEBUG, handlers=[ch])\n",
    "\n",
    "\n",
    "configure_root_logger()\n",
    "\n",
    "\n",
    "# My fix to return a callable\n",
    "def loguniform(min_bound, max_bound, base=10):\n",
    "    \"\"\"Sugar for sampling in different orders of magnitude.\n",
    "\n",
    "    Args:\n",
    "        min_bound (float): Lower boundary of the output interval (1e-4)\n",
    "        max_bound (float): Upper boundary of the output interval (1e-2)\n",
    "        base (float): Base of the log. Defaults to 10.\n",
    "    \"\"\"\n",
    "    logmin = np.log(min_bound) / np.log(base)\n",
    "    logmax = np.log(max_bound) / np.log(base)\n",
    "\n",
    "    def apply_log():\n",
    "        return base**(np.random.uniform(logmin, logmax))\n",
    "\n",
    "    return apply_log"
   ]
  },
  {
   "cell_type": "code",
   "execution_count": 3,
   "metadata": {},
   "outputs": [],
   "source": [
    "def trial_str_creator(trial: ray.tune.trial.Trial):\n",
    "    return trial.trainable_name"
   ]
  },
  {
   "cell_type": "code",
   "execution_count": 4,
   "metadata": {},
   "outputs": [],
   "source": [
    "class BaseTrainTransformer(tune.Trainable):\n",
    "    @property\n",
    "    def static_config(self) -> dict:\n",
    "        return getattr(self, \"_static_config\", {})\n",
    "\n",
    "    def _setup(self, config: dict):\n",
    "\n",
    "        configure_root_logger()\n",
    "\n",
    "        self.logger = logging.getLogger(\"BaseTrainTransformer\")\n",
    "        fh = logging.FileHandler(filename=\"./training.log\")\n",
    "        fh.setLevel(logging.DEBUG)\n",
    "\n",
    "        # Add the file handler to the logger\n",
    "        self.logger.addHandler(fh)\n",
    "\n",
    "        try:\n",
    "            self.logger.debug(\"ray.get_gpu_ids(): {}\".format(ray.get_gpu_ids()))\n",
    "            self.logger.debug(\"CUDA_VISIBLE_DEVICES: {}\".format(os.environ[\"CUDA_VISIBLE_DEVICES\"]))\n",
    "        except Exception:\n",
    "            pass\n",
    "\n",
    "        self.data_dir = data_dir\n",
    "        self.model_type = model_type\n",
    "        self.compute = compute\n",
    "        CSP_paths = {\"train_data\": self.data_dir}\n",
    "\n",
    "        self._rcml = RapidsCloudML(cloud_type=\"local\",\n",
    "                                   model_type=self.model_type,\n",
    "                                   compute_type=self.compute,\n",
    "                                   n_workers=self.static_config[\"num_workers\"],\n",
    "                                   CSP_paths=CSP_paths,\n",
    "                                   parent_logger=self.logger)\n",
    "\n",
    "        # environment check\n",
    "        self._rcml.environment_check()\n",
    "\n",
    "        # ingest data [ post pre-processing ]\n",
    "        self._dataset, self._col_labels, self._y_label, ingest_time = self._rcml.load_data(filename=self.static_config['dataset_filename'])\n",
    "        self._rcml.query_memory()\n",
    "\n",
    "        # classification objective requires int32 label for cuml random forest\n",
    "        self._dataset[self._y_label] = self._dataset[self._y_label].astype('int32')\n",
    "\n",
    "        self._build(config)\n",
    "\n",
    "    def _build(self, new_config):\n",
    "        self._model_params = {\n",
    "            'max_depth': int(new_config[\"max_depth\"]),\n",
    "            'n_estimators': int(new_config[\"n_estimators\"]),\n",
    "            'max_features': float(new_config[\"max_features\"]),\n",
    "            'n_bins': 16,  #args.n_bins,\n",
    "            'seed': time.time(),\n",
    "        }\n",
    "\n",
    "        self._global_best_model = None\n",
    "        self._global_best_test_accuracy = 0\n",
    "\n",
    "    def _train(self):\n",
    "\n",
    "        iteration = getattr(self, \"iteration\", 0)\n",
    "\n",
    "        self.logger.debug(\"Epoch: {}\".format(iteration))\n",
    "\n",
    "        # split data\n",
    "        X_train, X_test, y_train, y_test, split_time = self._rcml.split_data(self._dataset, self._y_label, random_state=iteration, shuffle=True)\n",
    "        # split_time_per_fold += [ round( split_time, 4)]\n",
    "\n",
    "        # train model\n",
    "        trained_model, training_time = self._rcml.train_model(X_train, y_train, self._model_params)\n",
    "        # train_time_per_fold += [ round( training_time, 4) ]\n",
    "\n",
    "        # evaluate perf\n",
    "        test_accuracy, infer_time = self._rcml.evaluate_test_perf(trained_model, X_test, y_test)\n",
    "        # accuracy_per_fold += [ round( test_accuracy, 4) ]\n",
    "        # infer_time_per_fold += [ round( infer_time, 4) ]\n",
    "\n",
    "        # update best model [ assumes maximization of perf metric ]\n",
    "        if test_accuracy > self._global_best_test_accuracy:\n",
    "            self._global_best_test_accuracy = test_accuracy\n",
    "            self._global_best_model = trained_model\n",
    "\n",
    "        self.logger.info(\"test_accuracy: {}\".format(test_accuracy))\n",
    "\n",
    "        return {\n",
    "            \"test_accuracy\": test_accuracy,\n",
    "            \"train_time\": round(training_time, 4),\n",
    "            \"infer_time\": round(infer_time, 4),\n",
    "            \"is_bad\": not math.isfinite(test_accuracy),\n",
    "        }\n",
    "\n",
    "    def _save(self, checkpoint_dir):\n",
    "        checkpoint_path = os.path.join(checkpoint_dir, \"checkpoint.pth\")\n",
    "\n",
    "        self.logger.debug(\"Saving checkpoint to: '{}'\".format(checkpoint_path))\n",
    "\n",
    "        self._rcml.save_best_model(checkpoint_path, self._global_best_model)\n",
    "        return checkpoint_path\n",
    "\n",
    "    def _restore(self, checkpoint_path):\n",
    "\n",
    "        self.logger.debug(\"Restoring model from: '{}'\".format(checkpoint_path))\n",
    "\n",
    "    def reset_config(self, new_config):\n",
    "\n",
    "        self.logger.debug(\"Resetting config\")\n",
    "        # Rebuild the config dependent stuff\n",
    "        self._build(new_config)\n",
    "\n",
    "        self.config = new_config\n",
    "        return True"
   ]
  },
  {
   "cell_type": "code",
   "execution_count": 5,
   "metadata": {},
   "outputs": [],
   "source": [
    "def build_search_alg(param_ranges: dict):\n",
    "\n",
    "    search_alg = None\n",
    "\n",
    "    if search_alg == \"BayesOpt\":\n",
    "        from ray.tune.suggest.bayesopt import BayesOptSearch\n",
    "\n",
    "        search_alg = BayesOptSearch(param_ranges,\n",
    "                                    max_concurrent=max_concurrent,\n",
    "                                    metric=\"test_accuracy\",\n",
    "                                    mode=\"max\",\n",
    "                                    utility_kwargs={\n",
    "                                        \"kind\": \"ucb\",\n",
    "                                        \"kappa\": 2.5,\n",
    "                                        \"xi\": 0.0\n",
    "                                    })\n",
    "\n",
    "    elif search_alg == \"SkOpt\":\n",
    "\n",
    "        from skopt import Optimizer\n",
    "        from skopt.space import Real, Integer\n",
    "        from ray.tune.suggest.skopt import SkOptSearch\n",
    "\n",
    "        opt_params = [\n",
    "            Integer(param_ranges[\"n_estimators\"][0], param_ranges[\"n_estimators\"][1]),\n",
    "            Integer(param_ranges[\"max_depth\"][0], param_ranges[\"max_depth\"][1]),\n",
    "            Real(param_ranges[\"max_features\"][0], param_ranges[\"max_features\"][1], prior=\"log-uniform\"),\n",
    "        ]\n",
    "\n",
    "        optimizer = Optimizer(opt_params)\n",
    "\n",
    "        search_alg = SkOptSearch(\n",
    "            optimizer,\n",
    "            list(param_ranges.keys()),\n",
    "            max_concurrent=max_concurrent,\n",
    "            metric=\"test_accuracy\",\n",
    "            mode=\"max\",\n",
    "            #  points_to_evaluate=previously_run_params,\n",
    "            #  evaluated_rewards=known_rewards,\n",
    "        )\n",
    "\n",
    "    elif search_alg == \"Nevergrad\":\n",
    "        from ray.tune.suggest.nevergrad import NevergradSearch\n",
    "        import nevergrad as ng\n",
    "        from nevergrad.optimization import optimizerlib\n",
    "        # from nevergrad import instrumentation as inst\n",
    "\n",
    "        instrumentation = ng.instrumentation.Instrumentation(\n",
    "            n_estimators=ng.instrumentation.var.Scalar(dtype=int).bounded(param_ranges[\"n_estimators\"][0], param_ranges[\"n_estimators\"][1]),\n",
    "            max_depth=ng.instrumentation.var.Scalar(dtype=int).bounded(param_ranges[\"max_depth\"][0], param_ranges[\"max_depth\"][1]),\n",
    "            max_features=ng.instrumentation.var.Log(a_min=param_ranges[\"max_features\"][0], a_max=param_ranges[\"max_features\"][1]),\n",
    "        )\n",
    "\n",
    "        optimizer = optimizerlib.OnePlusOne(instrumentation)\n",
    "\n",
    "        search_alg = NevergradSearch(optimizer, None, max_concurrent=max_concurrent, metric=\"test_accuracy\", mode=\"max\")\n",
    "\n",
    "    return search_alg"
   ]
  },
  {
   "cell_type": "code",
   "execution_count": 6,
   "metadata": {},
   "outputs": [
    {
     "name": "stderr",
     "output_type": "stream",
     "text": [
      "No traceback available to show.\n",
      "2020-03-24 16:56:19,072\tWARNING services.py:586 -- setpgrp failed, processes may not be cleaned up properly: [Errno 1] Operation not permitted.\n",
      "2020-03-24 16:56:19,074\tINFO resource_spec.py:212 -- Starting Ray with 23.14 GiB memory available for workers and up to 11.58 GiB for objects. You can adjust these settings with ray.init(memory=<bytes>, object_store_memory=<bytes>).\n",
      "2020-03-24 16:56:19,523\tINFO services.py:1078 -- View the Ray dashboard at \u001b[1m\u001b[32m172.17.0.2:8265\u001b[39m\u001b[22m\n",
      "2020-03-24 16:56:19,528\tWARNING services.py:1403 -- WARNING: The object store is using /tmp instead of /dev/shm because /dev/shm has only 67100672 bytes available. This may slow down performance! You may be able to free up space by deleting files in /dev/shm or terminating any running plasma_store_server processes. If you are inside a Docker container, you may need to pass an argument with the flag '--shm-size' to 'docker run'.\n"
     ]
    }
   ],
   "source": [
    "%tb\n",
    "start_time = time.time()\n",
    "\n",
    "num_samples = 1\n",
    "model_type = \"RandomForest\"\n",
    "compute = \"GPU\"\n",
    "data_dir = \"/home/hyperopt/RayTune/aws-sagemaker-gtc-2020/raytune/data/\"\n",
    "CV_folds = 50\n",
    "search_alg = \"SkOpt\"\n",
    "sched_alg = \"PBT\"\n",
    "num_rows = 10000000\n",
    "max_concurrent = -1\n",
    "\n",
    "# HPO Param ranges\n",
    "n_estimators_range = (50, 1000)\n",
    "max_depth_range = (2, 18)\n",
    "max_features_range = (0.1, 0.8)\n",
    "\n",
    "hpo_ranges = {\n",
    "    \"n_estimators\": n_estimators_range,\n",
    "    \"max_depth\": max_depth_range,\n",
    "    \"max_features\": max_features_range,\n",
    "}\n",
    "\n",
    "# Ensure the dataset is setup\n",
    "dataset_config = {\n",
    "    'dataset_name': \"airline\",\n",
    "    'nrows': num_rows,  # 115000000\n",
    "    'delayed_threshold': 10,\n",
    "    'remote_URL': 'http://kt.ijs.si/elena_ikonomovska/datasets/airline/airline_14col.data.bz2',\n",
    "    'local_cache_dir': \"/home/hyperopt/RayTune/aws-sagemaker-gtc-2020/raytune/data/\",\n",
    "    'upload_destination': ['rapids-csp', 'data'],  # bucket, folder\n",
    "}\n",
    "\n",
    "# Test local\n",
    "local_dataset = dataset_csp.DatasetCSP(dataset_config=dataset_config, cloud_type=\"local\")\n",
    "\n",
    "# Ensure its loaded\n",
    "# local_dataset.prepare()\n",
    "\n",
    "data_dir = os.path.abspath(data_dir)\n",
    "\n",
    "if _DEBUG:\n",
    "    # Only use 1 GPU when\n",
    "    ray.init(local_mode=True, num_gpus=1)\n",
    "    num_samples = 2\n",
    "else:\n",
    "    ray.init(webui_host=\"0.0.0.0\")\n",
    "\n",
    "if max_concurrent == -1:\n",
    "    if compute == \"GPU\":\n",
    "        max_concurrent = cupy.cuda.runtime.getDeviceCount()\n",
    "    else:\n",
    "        raise Exception(\"For CPU, must specify max_concurrent value\")\n",
    "\n",
    "cpu_per_sample = int(multiprocessing.cpu_count() / max_concurrent)"
   ]
  },
  {
   "cell_type": "code",
   "execution_count": 7,
   "metadata": {},
   "outputs": [],
   "source": [
    "\n",
    "# # Limit the number of rows. (MDD: This doesnt appear to work unfortunately)\n",
    "# reporter = CLIReporter(max_progress_rows=10)\n",
    "# # Add a custom metric column, in addition to the default metrics.\n",
    "# # Note that this must be a metric that is returned in your training results.\n",
    "# reporter.add_metric_column(\"validation_loss\")\n",
    "\n",
    "search_alg = build_search_alg(hpo_ranges)\n",
    "\n",
    "sched = None\n",
    "\n",
    "if sched_alg == \"PBT\":\n",
    "\n",
    "    sched = PopulationBasedTraining(\n",
    "        time_attr=\"training_iteration\",\n",
    "        metric=\"test_accuracy\",\n",
    "        mode=\"max\",\n",
    "        perturbation_interval=1,\n",
    "        hyperparam_mutations={\n",
    "            # distribution for resampling\n",
    "            \"n_estimators\": lambda: np.random.randint(n_estimators_range[0], n_estimators_range[1]),\n",
    "            \"max_depth\": lambda: np.random.randint(max_depth_range[0], max_depth_range[1]),\n",
    "            \"max_features\": loguniform(max_features_range[0], max_features_range[1]),\n",
    "        })\n",
    "elif sched_alg == \"AsyncHyperBand\":\n",
    "    sched = AsyncHyperBandScheduler(time_attr=\"training_iteration\",\n",
    "                                    metric=\"test_accuracy\",\n",
    "                                    mode=\"max\",\n",
    "                                    max_t=3,\n",
    "                                    grace_period=1,\n",
    "                                    reduction_factor=3,\n",
    "                                    brackets=3)\n",
    "\n",
    "exp_name = datetime.today().strftime(\"%Y-%m-%d_%H-%M-%S\") + \"__\"\n",
    "\n",
    "if exp_name is not None:\n",
    "    exp_name += exp_name\n",
    "else:\n",
    "    exp_name += \"{}_{}_CV-{}_{}M_SAMP-{}\".format(\"RF\" if model_type == \"RandomForest\" else \"XGB\", compute, CV_folds,\n",
    "                                                 int(num_rows / 1000000), num_samples)\n",
    "\n",
    "    if search_alg is not None:\n",
    "        exp_name += \"_{}\".format(search_alg)\n",
    "    if sched_alg is not None:\n",
    "        exp_name += \"_{}\".format(sched_alg)\n",
    "\n",
    "static_config = {\n",
    "    \"dataset_filename\": os.path.basename(local_dataset.train_path),\n",
    "    \"num_workers\": cpu_per_sample if compute == \"CPU\" else 1,\n",
    "}"
   ]
  },
  {
   "cell_type": "code",
   "execution_count": null,
   "metadata": {},
   "outputs": [],
   "source": []
  },
  {
   "cell_type": "code",
   "execution_count": 8,
   "metadata": {},
   "outputs": [
    {
     "data": {
      "text/html": [
       "== Status ==<br>Memory usage on this node: 9.5/45.8 GiB<br>PopulationBasedTraining: 0 checkpoints, 0 perturbs<br>Resources requested: 6/12 CPUs, 1/2 GPUs, 0.0/23.14 GiB heap, 0.0/7.96 GiB objects<br>Result logdir: /home/hyperopt/RayTune/aws-sagemaker-gtc-2020/raytune/.results/2020-03-24_16-56-19__2020-03-24_16-56-19__<br>Number of trials: 1 (1 RUNNING)<br><table>\n",
       "<thead>\n",
       "<tr><th>Trial name      </th><th>status  </th><th>loc  </th><th>n_estimators  </th><th>max_features  </th><th>max_depth  </th></tr>\n",
       "</thead>\n",
       "<tbody>\n",
       "<tr><td>WrappedTrainable</td><td>RUNNING </td><td>     </td><td>              </td><td>              </td><td>           </td></tr>\n",
       "</tbody>\n",
       "</table><br><br>"
      ],
      "text/plain": [
       "<IPython.core.display.HTML object>"
      ]
     },
     "metadata": {},
     "output_type": "display_data"
    },
    {
     "name": "stdout",
     "output_type": "stream",
     "text": [
      "\u001b[2m\u001b[36m(pid=664)\u001b[0m INFO:numba.cuda.cudadrv.driver:init\n",
      "Result for WrappedTrainable:\n",
      "  date: 2020-03-24_16-56-32\n",
      "  done: false\n",
      "  experiment_id: 48a4678dee104a0aaee9bd1544377e32\n",
      "  experiment_tag: 0_max_depth=4,max_features=0.5214,n_estimators=344\n",
      "  hostname: 00b88c234adf\n",
      "  infer_time: 0.0722\n",
      "  is_bad: false\n",
      "  iterations_since_restore: 1\n",
      "  node_ip: 172.17.0.2\n",
      "  pid: 664\n",
      "  test_accuracy: 0.7351605296134949\n",
      "  time_since_restore: 8.750439643859863\n",
      "  time_this_iter_s: 8.750439643859863\n",
      "  time_total_s: 8.750439643859863\n",
      "  timestamp: 1585068992\n",
      "  timesteps_since_restore: 0\n",
      "  train_time: 8.5605\n",
      "  training_iteration: 1\n",
      "  trial_id: 627212e2\n",
      "  \n",
      "\u001b[2m\u001b[36m(pid=664)\u001b[0m INFO:BaseTrainTransformer:test_accuracy: 0.7351605296134949\n"
     ]
    },
    {
     "data": {
      "text/html": [
       "== Status ==<br>Memory usage on this node: 12.4/45.8 GiB<br>PopulationBasedTraining: 0 checkpoints, 0 perturbs<br>Resources requested: 6/12 CPUs, 1/2 GPUs, 0.0/23.14 GiB heap, 0.0/7.96 GiB objects<br>Result logdir: /home/hyperopt/RayTune/aws-sagemaker-gtc-2020/raytune/.results/2020-03-24_16-56-19__2020-03-24_16-56-19__<br>Number of trials: 1 (1 RUNNING)<br><table>\n",
       "<thead>\n",
       "<tr><th>Trial name      </th><th>status  </th><th>loc           </th><th style=\"text-align: right;\">  n_estimators</th><th style=\"text-align: right;\">  max_features</th><th style=\"text-align: right;\">  max_depth</th><th style=\"text-align: right;\">  total time (s)</th><th style=\"text-align: right;\">  iter</th></tr>\n",
       "</thead>\n",
       "<tbody>\n",
       "<tr><td>WrappedTrainable</td><td>RUNNING </td><td>172.17.0.2:664</td><td style=\"text-align: right;\">           344</td><td style=\"text-align: right;\">      0.521398</td><td style=\"text-align: right;\">          4</td><td style=\"text-align: right;\">         8.75044</td><td style=\"text-align: right;\">     1</td></tr>\n",
       "</tbody>\n",
       "</table><br><br>"
      ],
      "text/plain": [
       "<IPython.core.display.HTML object>"
      ]
     },
     "metadata": {},
     "output_type": "display_data"
    },
    {
     "name": "stdout",
     "output_type": "stream",
     "text": [
      "Result for WrappedTrainable:\n",
      "  date: 2020-03-24_16-56-41\n",
      "  done: false\n",
      "  experiment_id: 48a4678dee104a0aaee9bd1544377e32\n",
      "  experiment_tag: 0_max_depth=4,max_features=0.5214,n_estimators=344\n",
      "  hostname: 00b88c234adf\n",
      "  infer_time: 0.0759\n",
      "  is_bad: false\n",
      "  iterations_since_restore: 2\n",
      "  node_ip: 172.17.0.2\n",
      "  pid: 664\n",
      "  test_accuracy: 0.7352445125579834\n",
      "  time_since_restore: 17.49007487297058\n",
      "  time_this_iter_s: 8.739635229110718\n",
      "  time_total_s: 17.49007487297058\n",
      "  timestamp: 1585069001\n",
      "  timesteps_since_restore: 0\n",
      "  train_time: 8.5539\n",
      "  training_iteration: 2\n",
      "  trial_id: 627212e2\n",
      "  \n"
     ]
    },
    {
     "data": {
      "text/html": [
       "== Status ==<br>Memory usage on this node: 12.4/45.8 GiB<br>PopulationBasedTraining: 0 checkpoints, 0 perturbs<br>Resources requested: 6/12 CPUs, 1/2 GPUs, 0.0/23.14 GiB heap, 0.0/7.96 GiB objects<br>Result logdir: /home/hyperopt/RayTune/aws-sagemaker-gtc-2020/raytune/.results/2020-03-24_16-56-19__2020-03-24_16-56-19__<br>Number of trials: 1 (1 RUNNING)<br><table>\n",
       "<thead>\n",
       "<tr><th>Trial name      </th><th>status  </th><th>loc           </th><th style=\"text-align: right;\">  n_estimators</th><th style=\"text-align: right;\">  max_features</th><th style=\"text-align: right;\">  max_depth</th><th style=\"text-align: right;\">  total time (s)</th><th style=\"text-align: right;\">  iter</th></tr>\n",
       "</thead>\n",
       "<tbody>\n",
       "<tr><td>WrappedTrainable</td><td>RUNNING </td><td>172.17.0.2:664</td><td style=\"text-align: right;\">           344</td><td style=\"text-align: right;\">      0.521398</td><td style=\"text-align: right;\">          4</td><td style=\"text-align: right;\">         17.4901</td><td style=\"text-align: right;\">     2</td></tr>\n",
       "</tbody>\n",
       "</table><br><br>"
      ],
      "text/plain": [
       "<IPython.core.display.HTML object>"
      ]
     },
     "metadata": {},
     "output_type": "display_data"
    },
    {
     "name": "stdout",
     "output_type": "stream",
     "text": [
      "\u001b[2m\u001b[36m(pid=664)\u001b[0m INFO:BaseTrainTransformer:test_accuracy: 0.7352445125579834\n",
      "Result for WrappedTrainable:\n",
      "  date: 2020-03-24_16-56-50\n",
      "  done: false\n",
      "  experiment_id: 48a4678dee104a0aaee9bd1544377e32\n",
      "  experiment_tag: 0_max_depth=4,max_features=0.5214,n_estimators=344\n",
      "  hostname: 00b88c234adf\n",
      "  infer_time: 0.0681\n",
      "  is_bad: false\n",
      "  iterations_since_restore: 3\n",
      "  node_ip: 172.17.0.2\n",
      "  pid: 664\n",
      "  test_accuracy: 0.734634518623352\n",
      "  time_since_restore: 26.21769905090332\n",
      "  time_this_iter_s: 8.72762417793274\n",
      "  time_total_s: 26.21769905090332\n",
      "  timestamp: 1585069010\n",
      "  timesteps_since_restore: 0\n",
      "  train_time: 8.5517\n",
      "  training_iteration: 3\n",
      "  trial_id: 627212e2\n",
      "  \n"
     ]
    },
    {
     "data": {
      "text/html": [
       "== Status ==<br>Memory usage on this node: 12.5/45.8 GiB<br>PopulationBasedTraining: 0 checkpoints, 0 perturbs<br>Resources requested: 6/12 CPUs, 1/2 GPUs, 0.0/23.14 GiB heap, 0.0/7.96 GiB objects<br>Result logdir: /home/hyperopt/RayTune/aws-sagemaker-gtc-2020/raytune/.results/2020-03-24_16-56-19__2020-03-24_16-56-19__<br>Number of trials: 1 (1 RUNNING)<br><table>\n",
       "<thead>\n",
       "<tr><th>Trial name      </th><th>status  </th><th>loc           </th><th style=\"text-align: right;\">  n_estimators</th><th style=\"text-align: right;\">  max_features</th><th style=\"text-align: right;\">  max_depth</th><th style=\"text-align: right;\">  total time (s)</th><th style=\"text-align: right;\">  iter</th></tr>\n",
       "</thead>\n",
       "<tbody>\n",
       "<tr><td>WrappedTrainable</td><td>RUNNING </td><td>172.17.0.2:664</td><td style=\"text-align: right;\">           344</td><td style=\"text-align: right;\">      0.521398</td><td style=\"text-align: right;\">          4</td><td style=\"text-align: right;\">         26.2177</td><td style=\"text-align: right;\">     3</td></tr>\n",
       "</tbody>\n",
       "</table><br><br>"
      ],
      "text/plain": [
       "<IPython.core.display.HTML object>"
      ]
     },
     "metadata": {},
     "output_type": "display_data"
    },
    {
     "name": "stdout",
     "output_type": "stream",
     "text": [
      "\u001b[2m\u001b[36m(pid=664)\u001b[0m INFO:BaseTrainTransformer:test_accuracy: 0.734634518623352\n",
      "Result for WrappedTrainable:\n",
      "  date: 2020-03-24_16-56-58\n",
      "  done: false\n",
      "  experiment_id: 48a4678dee104a0aaee9bd1544377e32\n",
      "  experiment_tag: 0_max_depth=4,max_features=0.5214,n_estimators=344\n",
      "  hostname: 00b88c234adf\n",
      "  infer_time: 0.0649\n",
      "  is_bad: false\n",
      "  iterations_since_restore: 4\n",
      "  node_ip: 172.17.0.2\n",
      "  pid: 664\n",
      "  test_accuracy: 0.735276997089386\n",
      "  time_since_restore: 34.955745697021484\n",
      "  time_this_iter_s: 8.738046646118164\n",
      "  time_total_s: 34.955745697021484\n",
      "  timestamp: 1585069018\n",
      "  timesteps_since_restore: 0\n",
      "  train_time: 8.565\n",
      "  training_iteration: 4\n",
      "  trial_id: 627212e2\n",
      "  \n"
     ]
    },
    {
     "data": {
      "text/html": [
       "== Status ==<br>Memory usage on this node: 12.5/45.8 GiB<br>PopulationBasedTraining: 0 checkpoints, 0 perturbs<br>Resources requested: 6/12 CPUs, 1/2 GPUs, 0.0/23.14 GiB heap, 0.0/7.96 GiB objects<br>Result logdir: /home/hyperopt/RayTune/aws-sagemaker-gtc-2020/raytune/.results/2020-03-24_16-56-19__2020-03-24_16-56-19__<br>Number of trials: 1 (1 RUNNING)<br><table>\n",
       "<thead>\n",
       "<tr><th>Trial name      </th><th>status  </th><th>loc           </th><th style=\"text-align: right;\">  n_estimators</th><th style=\"text-align: right;\">  max_features</th><th style=\"text-align: right;\">  max_depth</th><th style=\"text-align: right;\">  total time (s)</th><th style=\"text-align: right;\">  iter</th></tr>\n",
       "</thead>\n",
       "<tbody>\n",
       "<tr><td>WrappedTrainable</td><td>RUNNING </td><td>172.17.0.2:664</td><td style=\"text-align: right;\">           344</td><td style=\"text-align: right;\">      0.521398</td><td style=\"text-align: right;\">          4</td><td style=\"text-align: right;\">         34.9557</td><td style=\"text-align: right;\">     4</td></tr>\n",
       "</tbody>\n",
       "</table><br><br>"
      ],
      "text/plain": [
       "<IPython.core.display.HTML object>"
      ]
     },
     "metadata": {},
     "output_type": "display_data"
    },
    {
     "name": "stdout",
     "output_type": "stream",
     "text": [
      "\u001b[2m\u001b[36m(pid=664)\u001b[0m INFO:BaseTrainTransformer:test_accuracy: 0.735276997089386\n",
      "Result for WrappedTrainable:\n",
      "  date: 2020-03-24_16-57-07\n",
      "  done: false\n",
      "  experiment_id: 48a4678dee104a0aaee9bd1544377e32\n",
      "  experiment_tag: 0_max_depth=4,max_features=0.5214,n_estimators=344\n",
      "  hostname: 00b88c234adf\n",
      "  infer_time: 0.061\n",
      "  is_bad: false\n",
      "  iterations_since_restore: 5\n",
      "  node_ip: 172.17.0.2\n",
      "  pid: 664\n",
      "  test_accuracy: 0.7354419827461243\n",
      "  time_since_restore: 43.7281653881073\n",
      "  time_this_iter_s: 8.772419691085815\n",
      "  time_total_s: 43.7281653881073\n",
      "  timestamp: 1585069027\n",
      "  timesteps_since_restore: 0\n",
      "  train_time: 8.6015\n",
      "  training_iteration: 5\n",
      "  trial_id: 627212e2\n",
      "  \n"
     ]
    },
    {
     "data": {
      "text/html": [
       "== Status ==<br>Memory usage on this node: 12.5/45.8 GiB<br>PopulationBasedTraining: 0 checkpoints, 0 perturbs<br>Resources requested: 6/12 CPUs, 1/2 GPUs, 0.0/23.14 GiB heap, 0.0/7.96 GiB objects<br>Result logdir: /home/hyperopt/RayTune/aws-sagemaker-gtc-2020/raytune/.results/2020-03-24_16-56-19__2020-03-24_16-56-19__<br>Number of trials: 1 (1 RUNNING)<br><table>\n",
       "<thead>\n",
       "<tr><th>Trial name      </th><th>status  </th><th>loc           </th><th style=\"text-align: right;\">  n_estimators</th><th style=\"text-align: right;\">  max_features</th><th style=\"text-align: right;\">  max_depth</th><th style=\"text-align: right;\">  total time (s)</th><th style=\"text-align: right;\">  iter</th></tr>\n",
       "</thead>\n",
       "<tbody>\n",
       "<tr><td>WrappedTrainable</td><td>RUNNING </td><td>172.17.0.2:664</td><td style=\"text-align: right;\">           344</td><td style=\"text-align: right;\">      0.521398</td><td style=\"text-align: right;\">          4</td><td style=\"text-align: right;\">         43.7282</td><td style=\"text-align: right;\">     5</td></tr>\n",
       "</tbody>\n",
       "</table><br><br>"
      ],
      "text/plain": [
       "<IPython.core.display.HTML object>"
      ]
     },
     "metadata": {},
     "output_type": "display_data"
    },
    {
     "name": "stdout",
     "output_type": "stream",
     "text": [
      "\u001b[2m\u001b[36m(pid=664)\u001b[0m INFO:BaseTrainTransformer:test_accuracy: 0.7354419827461243\n",
      "Result for WrappedTrainable:\n",
      "  date: 2020-03-24_16-57-16\n",
      "  done: false\n",
      "  experiment_id: 48a4678dee104a0aaee9bd1544377e32\n",
      "  experiment_tag: 0_max_depth=4,max_features=0.5214,n_estimators=344\n",
      "  hostname: 00b88c234adf\n",
      "  infer_time: 0.0595\n",
      "  is_bad: false\n",
      "  iterations_since_restore: 6\n",
      "  node_ip: 172.17.0.2\n",
      "  pid: 664\n",
      "  test_accuracy: 0.735306978225708\n",
      "  time_since_restore: 52.498003244400024\n",
      "  time_this_iter_s: 8.769837856292725\n",
      "  time_total_s: 52.498003244400024\n",
      "  timestamp: 1585069036\n",
      "  timesteps_since_restore: 0\n",
      "  train_time: 8.602\n",
      "  training_iteration: 6\n",
      "  trial_id: 627212e2\n",
      "  \u001b[2m\u001b[36m(pid=664)\u001b[0m INFO:BaseTrainTransformer:test_accuracy: 0.735306978225708\n",
      "\n"
     ]
    },
    {
     "data": {
      "text/html": [
       "== Status ==<br>Memory usage on this node: 12.4/45.8 GiB<br>PopulationBasedTraining: 0 checkpoints, 0 perturbs<br>Resources requested: 6/12 CPUs, 1/2 GPUs, 0.0/23.14 GiB heap, 0.0/7.96 GiB objects<br>Result logdir: /home/hyperopt/RayTune/aws-sagemaker-gtc-2020/raytune/.results/2020-03-24_16-56-19__2020-03-24_16-56-19__<br>Number of trials: 1 (1 RUNNING)<br><table>\n",
       "<thead>\n",
       "<tr><th>Trial name      </th><th>status  </th><th>loc           </th><th style=\"text-align: right;\">  n_estimators</th><th style=\"text-align: right;\">  max_features</th><th style=\"text-align: right;\">  max_depth</th><th style=\"text-align: right;\">  total time (s)</th><th style=\"text-align: right;\">  iter</th></tr>\n",
       "</thead>\n",
       "<tbody>\n",
       "<tr><td>WrappedTrainable</td><td>RUNNING </td><td>172.17.0.2:664</td><td style=\"text-align: right;\">           344</td><td style=\"text-align: right;\">      0.521398</td><td style=\"text-align: right;\">          4</td><td style=\"text-align: right;\">          52.498</td><td style=\"text-align: right;\">     6</td></tr>\n",
       "</tbody>\n",
       "</table><br><br>"
      ],
      "text/plain": [
       "<IPython.core.display.HTML object>"
      ]
     },
     "metadata": {},
     "output_type": "display_data"
    },
    {
     "name": "stdout",
     "output_type": "stream",
     "text": [
      "Result for WrappedTrainable:\n",
      "  date: 2020-03-24_16-57-25\n",
      "  done: false\n",
      "  experiment_id: 48a4678dee104a0aaee9bd1544377e32\n",
      "  experiment_tag: 0_max_depth=4,max_features=0.5214,n_estimators=344\n",
      "  hostname: 00b88c234adf\n",
      "  infer_time: 0.0601\n",
      "  is_bad: false\n",
      "  iterations_since_restore: 7\n",
      "  node_ip: 172.17.0.2\n",
      "  pid: 664\n",
      "  test_accuracy: 0.7350149750709534\n",
      "  time_since_restore: 61.27258324623108\n",
      "  time_this_iter_s: 8.774580001831055\n",
      "  time_total_s: 61.27258324623108\n",
      "  timestamp: 1585069045\n",
      "  timesteps_since_restore: 0\n",
      "  train_time: 8.6042\n",
      "  training_iteration: 7\n",
      "  trial_id: 627212e2\n",
      "  \n",
      "\u001b[2m\u001b[36m(pid=664)\u001b[0m INFO:BaseTrainTransformer:test_accuracy: 0.7350149750709534\n"
     ]
    },
    {
     "data": {
      "text/html": [
       "== Status ==<br>Memory usage on this node: 12.5/45.8 GiB<br>PopulationBasedTraining: 0 checkpoints, 0 perturbs<br>Resources requested: 6/12 CPUs, 1/2 GPUs, 0.0/23.14 GiB heap, 0.0/7.96 GiB objects<br>Result logdir: /home/hyperopt/RayTune/aws-sagemaker-gtc-2020/raytune/.results/2020-03-24_16-56-19__2020-03-24_16-56-19__<br>Number of trials: 1 (1 RUNNING)<br><table>\n",
       "<thead>\n",
       "<tr><th>Trial name      </th><th>status  </th><th>loc           </th><th style=\"text-align: right;\">  n_estimators</th><th style=\"text-align: right;\">  max_features</th><th style=\"text-align: right;\">  max_depth</th><th style=\"text-align: right;\">  total time (s)</th><th style=\"text-align: right;\">  iter</th></tr>\n",
       "</thead>\n",
       "<tbody>\n",
       "<tr><td>WrappedTrainable</td><td>RUNNING </td><td>172.17.0.2:664</td><td style=\"text-align: right;\">           344</td><td style=\"text-align: right;\">      0.521398</td><td style=\"text-align: right;\">          4</td><td style=\"text-align: right;\">         61.2726</td><td style=\"text-align: right;\">     7</td></tr>\n",
       "</tbody>\n",
       "</table><br><br>"
      ],
      "text/plain": [
       "<IPython.core.display.HTML object>"
      ]
     },
     "metadata": {},
     "output_type": "display_data"
    },
    {
     "name": "stdout",
     "output_type": "stream",
     "text": [
      "\u001b[2m\u001b[36m(pid=664)\u001b[0m INFO:BaseTrainTransformer:test_accuracy: 0.7353460192680359\n",
      "Result for WrappedTrainable:\n",
      "  date: 2020-03-24_16-57-33\n",
      "  done: false\n",
      "  experiment_id: 48a4678dee104a0aaee9bd1544377e32\n",
      "  experiment_tag: 0_max_depth=4,max_features=0.5214,n_estimators=344\n",
      "  hostname: 00b88c234adf\n",
      "  infer_time: 0.0599\n",
      "  is_bad: false\n",
      "  iterations_since_restore: 8\n",
      "  node_ip: 172.17.0.2\n",
      "  pid: 664\n",
      "  test_accuracy: 0.7353460192680359\n",
      "  time_since_restore: 70.05354905128479\n",
      "  time_this_iter_s: 8.780965805053711\n",
      "  time_total_s: 70.05354905128479\n",
      "  timestamp: 1585069053\n",
      "  timesteps_since_restore: 0\n",
      "  train_time: 8.6111\n",
      "  training_iteration: 8\n",
      "  trial_id: 627212e2\n",
      "  \n"
     ]
    },
    {
     "data": {
      "text/html": [
       "== Status ==<br>Memory usage on this node: 12.5/45.8 GiB<br>PopulationBasedTraining: 0 checkpoints, 0 perturbs<br>Resources requested: 6/12 CPUs, 1/2 GPUs, 0.0/23.14 GiB heap, 0.0/7.96 GiB objects<br>Result logdir: /home/hyperopt/RayTune/aws-sagemaker-gtc-2020/raytune/.results/2020-03-24_16-56-19__2020-03-24_16-56-19__<br>Number of trials: 1 (1 RUNNING)<br><table>\n",
       "<thead>\n",
       "<tr><th>Trial name      </th><th>status  </th><th>loc           </th><th style=\"text-align: right;\">  n_estimators</th><th style=\"text-align: right;\">  max_features</th><th style=\"text-align: right;\">  max_depth</th><th style=\"text-align: right;\">  total time (s)</th><th style=\"text-align: right;\">  iter</th></tr>\n",
       "</thead>\n",
       "<tbody>\n",
       "<tr><td>WrappedTrainable</td><td>RUNNING </td><td>172.17.0.2:664</td><td style=\"text-align: right;\">           344</td><td style=\"text-align: right;\">      0.521398</td><td style=\"text-align: right;\">          4</td><td style=\"text-align: right;\">         70.0535</td><td style=\"text-align: right;\">     8</td></tr>\n",
       "</tbody>\n",
       "</table><br><br>"
      ],
      "text/plain": [
       "<IPython.core.display.HTML object>"
      ]
     },
     "metadata": {},
     "output_type": "display_data"
    },
    {
     "name": "stdout",
     "output_type": "stream",
     "text": [
      "Result for WrappedTrainable:\n",
      "\u001b[2m\u001b[36m(pid=664)\u001b[0m INFO:BaseTrainTransformer:test_accuracy: 0.7356675267219543  date: 2020-03-24_16-57-42\n",
      "  done: false\n",
      "  experiment_id: 48a4678dee104a0aaee9bd1544377e32\n",
      "  experiment_tag: 0_max_depth=4,max_features=0.5214,n_estimators=344\n",
      "  hostname: 00b88c234adf\n",
      "  infer_time: 0.0602\n",
      "  is_bad: false\n",
      "  iterations_since_restore: 9\n",
      "  node_ip: 172.17.0.2\n",
      "  pid: 664\n",
      "  test_accuracy: 0.7356675267219543\n",
      "  time_since_restore: 78.82952523231506\n",
      "  time_this_iter_s: 8.775976181030273\n",
      "  time_total_s: 78.82952523231506\n",
      "  timestamp: 1585069062\n",
      "  timesteps_since_restore: 0\n",
      "  train_time: 8.6072\n",
      "  training_iteration: 9\n",
      "  trial_id: 627212e2\n",
      "  \n",
      "\n"
     ]
    },
    {
     "data": {
      "text/html": [
       "== Status ==<br>Memory usage on this node: 12.5/45.8 GiB<br>PopulationBasedTraining: 0 checkpoints, 0 perturbs<br>Resources requested: 6/12 CPUs, 1/2 GPUs, 0.0/23.14 GiB heap, 0.0/7.96 GiB objects<br>Result logdir: /home/hyperopt/RayTune/aws-sagemaker-gtc-2020/raytune/.results/2020-03-24_16-56-19__2020-03-24_16-56-19__<br>Number of trials: 1 (1 RUNNING)<br><table>\n",
       "<thead>\n",
       "<tr><th>Trial name      </th><th>status  </th><th>loc           </th><th style=\"text-align: right;\">  n_estimators</th><th style=\"text-align: right;\">  max_features</th><th style=\"text-align: right;\">  max_depth</th><th style=\"text-align: right;\">  total time (s)</th><th style=\"text-align: right;\">  iter</th></tr>\n",
       "</thead>\n",
       "<tbody>\n",
       "<tr><td>WrappedTrainable</td><td>RUNNING </td><td>172.17.0.2:664</td><td style=\"text-align: right;\">           344</td><td style=\"text-align: right;\">      0.521398</td><td style=\"text-align: right;\">          4</td><td style=\"text-align: right;\">         78.8295</td><td style=\"text-align: right;\">     9</td></tr>\n",
       "</tbody>\n",
       "</table><br><br>"
      ],
      "text/plain": [
       "<IPython.core.display.HTML object>"
      ]
     },
     "metadata": {},
     "output_type": "display_data"
    },
    {
     "name": "stdout",
     "output_type": "stream",
     "text": [
      "Result for WrappedTrainable:\n",
      "  date: 2020-03-24_16-57-51\n",
      "  done: false\n",
      "  experiment_id: 48a4678dee104a0aaee9bd1544377e32\n",
      "  experiment_tag: 0_max_depth=4,max_features=0.5214,n_estimators=344\n",
      "  hostname: 00b88c234adf\n",
      "  infer_time: 0.0601\n",
      "  is_bad: false\n",
      "  iterations_since_restore: 10\n",
      "  node_ip: 172.17.0.2\n",
      "  pid: 664\n",
      "  test_accuracy: 0.7358865141868591\n",
      "  time_since_restore: 87.61056542396545\n",
      "  time_this_iter_s: 8.78104019165039\n",
      "  time_total_s: 87.61056542396545\n",
      "  timestamp: 1585069071\n",
      "  timesteps_since_restore: 0\n",
      "  train_time: 8.6122\n",
      "  training_iteration: 10\n",
      "  trial_id: 627212e2\n",
      "  \n",
      "\u001b[2m\u001b[36m(pid=664)\u001b[0m INFO:BaseTrainTransformer:test_accuracy: 0.7358865141868591\n"
     ]
    },
    {
     "data": {
      "text/html": [
       "== Status ==<br>Memory usage on this node: 12.5/45.8 GiB<br>PopulationBasedTraining: 0 checkpoints, 0 perturbs<br>Resources requested: 6/12 CPUs, 1/2 GPUs, 0.0/23.14 GiB heap, 0.0/7.96 GiB objects<br>Result logdir: /home/hyperopt/RayTune/aws-sagemaker-gtc-2020/raytune/.results/2020-03-24_16-56-19__2020-03-24_16-56-19__<br>Number of trials: 1 (1 RUNNING)<br><table>\n",
       "<thead>\n",
       "<tr><th>Trial name      </th><th>status  </th><th>loc           </th><th style=\"text-align: right;\">  n_estimators</th><th style=\"text-align: right;\">  max_features</th><th style=\"text-align: right;\">  max_depth</th><th style=\"text-align: right;\">  total time (s)</th><th style=\"text-align: right;\">  iter</th></tr>\n",
       "</thead>\n",
       "<tbody>\n",
       "<tr><td>WrappedTrainable</td><td>RUNNING </td><td>172.17.0.2:664</td><td style=\"text-align: right;\">           344</td><td style=\"text-align: right;\">      0.521398</td><td style=\"text-align: right;\">          4</td><td style=\"text-align: right;\">         87.6106</td><td style=\"text-align: right;\">    10</td></tr>\n",
       "</tbody>\n",
       "</table><br><br>"
      ],
      "text/plain": [
       "<IPython.core.display.HTML object>"
      ]
     },
     "metadata": {},
     "output_type": "display_data"
    },
    {
     "name": "stdout",
     "output_type": "stream",
     "text": [
      "Result for WrappedTrainable:\n",
      "  date: 2020-03-24_16-58-00\n",
      "  done: false\n",
      "  experiment_id: 48a4678dee104a0aaee9bd1544377e32\n",
      "  experiment_tag: 0_max_depth=4,max_features=0.5214,n_estimators=344\n",
      "  hostname: 00b88c234adf\n",
      "  infer_time: 0.0602\n",
      "  is_bad: false\n",
      "  iterations_since_restore: 11\n",
      "  node_ip: 172.17.0.2\n",
      "  pid: 664\n",
      "  test_accuracy: 0.7354205250740051\n",
      "  time_since_restore: 96.39790272712708\n",
      "  time_this_iter_s: 8.787337303161621\n",
      "  time_total_s: 96.39790272712708\n",
      "  timestamp: 1585069080\n",
      "  timesteps_since_restore: 0\n",
      "  train_time: 8.619\n",
      "  training_iteration: 11\n",
      "  trial_id: 627212e2\n",
      "  \n"
     ]
    },
    {
     "data": {
      "text/html": [
       "== Status ==<br>Memory usage on this node: 12.5/45.8 GiB<br>PopulationBasedTraining: 0 checkpoints, 0 perturbs<br>Resources requested: 6/12 CPUs, 1/2 GPUs, 0.0/23.14 GiB heap, 0.0/7.96 GiB objects<br>Result logdir: /home/hyperopt/RayTune/aws-sagemaker-gtc-2020/raytune/.results/2020-03-24_16-56-19__2020-03-24_16-56-19__<br>Number of trials: 1 (1 RUNNING)<br><table>\n",
       "<thead>\n",
       "<tr><th>Trial name      </th><th>status  </th><th>loc           </th><th style=\"text-align: right;\">  n_estimators</th><th style=\"text-align: right;\">  max_features</th><th style=\"text-align: right;\">  max_depth</th><th style=\"text-align: right;\">  total time (s)</th><th style=\"text-align: right;\">  iter</th></tr>\n",
       "</thead>\n",
       "<tbody>\n",
       "<tr><td>WrappedTrainable</td><td>RUNNING </td><td>172.17.0.2:664</td><td style=\"text-align: right;\">           344</td><td style=\"text-align: right;\">      0.521398</td><td style=\"text-align: right;\">          4</td><td style=\"text-align: right;\">         96.3979</td><td style=\"text-align: right;\">    11</td></tr>\n",
       "</tbody>\n",
       "</table><br><br>"
      ],
      "text/plain": [
       "<IPython.core.display.HTML object>"
      ]
     },
     "metadata": {},
     "output_type": "display_data"
    },
    {
     "name": "stdout",
     "output_type": "stream",
     "text": [
      "\u001b[2m\u001b[36m(pid=664)\u001b[0m INFO:BaseTrainTransformer:test_accuracy: 0.7354205250740051\n",
      "Result for WrappedTrainable:\n",
      "  date: 2020-03-24_16-58-09\n",
      "  done: false\n",
      "  experiment_id: 48a4678dee104a0aaee9bd1544377e32\n",
      "  experiment_tag: 0_max_depth=4,max_features=0.5214,n_estimators=344\n",
      "  hostname: 00b88c234adf\n",
      "  infer_time: 0.0608\n",
      "  is_bad: false\n",
      "  iterations_since_restore: 12\n",
      "  node_ip: 172.17.0.2\n",
      "  pid: 664\n",
      "  test_accuracy: 0.7356594800949097\n",
      "  time_since_restore: 105.19043183326721\n",
      "  time_this_iter_s: 8.792529106140137\n",
      "  time_total_s: 105.19043183326721\n",
      "  timestamp: 1585069089\n",
      "  timesteps_since_restore: 0\n",
      "  train_time: 8.6232\n",
      "  training_iteration: 12\n",
      "  trial_id: 627212e2\n",
      "  \n"
     ]
    },
    {
     "data": {
      "text/html": [
       "== Status ==<br>Memory usage on this node: 12.5/45.8 GiB<br>PopulationBasedTraining: 0 checkpoints, 0 perturbs<br>Resources requested: 6/12 CPUs, 1/2 GPUs, 0.0/23.14 GiB heap, 0.0/7.96 GiB objects<br>Result logdir: /home/hyperopt/RayTune/aws-sagemaker-gtc-2020/raytune/.results/2020-03-24_16-56-19__2020-03-24_16-56-19__<br>Number of trials: 1 (1 RUNNING)<br><table>\n",
       "<thead>\n",
       "<tr><th>Trial name      </th><th>status  </th><th>loc           </th><th style=\"text-align: right;\">  n_estimators</th><th style=\"text-align: right;\">  max_features</th><th style=\"text-align: right;\">  max_depth</th><th style=\"text-align: right;\">  total time (s)</th><th style=\"text-align: right;\">  iter</th></tr>\n",
       "</thead>\n",
       "<tbody>\n",
       "<tr><td>WrappedTrainable</td><td>RUNNING </td><td>172.17.0.2:664</td><td style=\"text-align: right;\">           344</td><td style=\"text-align: right;\">      0.521398</td><td style=\"text-align: right;\">          4</td><td style=\"text-align: right;\">          105.19</td><td style=\"text-align: right;\">    12</td></tr>\n",
       "</tbody>\n",
       "</table><br><br>"
      ],
      "text/plain": [
       "<IPython.core.display.HTML object>"
      ]
     },
     "metadata": {},
     "output_type": "display_data"
    },
    {
     "name": "stdout",
     "output_type": "stream",
     "text": [
      "\u001b[2m\u001b[36m(pid=664)\u001b[0m INFO:BaseTrainTransformer:test_accuracy: 0.7356594800949097\n",
      "Result for WrappedTrainable:\n",
      "  date: 2020-03-24_16-58-17\n",
      "  done: false\n",
      "  experiment_id: 48a4678dee104a0aaee9bd1544377e32\n",
      "  experiment_tag: 0_max_depth=4,max_features=0.5214,n_estimators=344\n",
      "  hostname: 00b88c234adf\n",
      "  infer_time: 0.0621\n",
      "  is_bad: false\n",
      "  iterations_since_restore: 13\n",
      "  node_ip: 172.17.0.2\n",
      "  pid: 664\n",
      "  test_accuracy: 0.7353230118751526\n",
      "  time_since_restore: 113.99699139595032\n",
      "  time_this_iter_s: 8.806559562683105\n",
      "  time_total_s: 113.99699139595032\n",
      "  timestamp: 1585069097\n",
      "  timesteps_since_restore: 0\n",
      "  train_time: 8.6333\n",
      "  training_iteration: 13\n",
      "  trial_id: 627212e2\n",
      "  \n",
      "\u001b[2m\u001b[36m(pid=664)\u001b[0m INFO:BaseTrainTransformer:test_accuracy: 0.7353230118751526\n"
     ]
    },
    {
     "data": {
      "text/html": [
       "== Status ==<br>Memory usage on this node: 12.5/45.8 GiB<br>PopulationBasedTraining: 0 checkpoints, 0 perturbs<br>Resources requested: 6/12 CPUs, 1/2 GPUs, 0.0/23.14 GiB heap, 0.0/7.96 GiB objects<br>Result logdir: /home/hyperopt/RayTune/aws-sagemaker-gtc-2020/raytune/.results/2020-03-24_16-56-19__2020-03-24_16-56-19__<br>Number of trials: 1 (1 RUNNING)<br><table>\n",
       "<thead>\n",
       "<tr><th>Trial name      </th><th>status  </th><th>loc           </th><th style=\"text-align: right;\">  n_estimators</th><th style=\"text-align: right;\">  max_features</th><th style=\"text-align: right;\">  max_depth</th><th style=\"text-align: right;\">  total time (s)</th><th style=\"text-align: right;\">  iter</th></tr>\n",
       "</thead>\n",
       "<tbody>\n",
       "<tr><td>WrappedTrainable</td><td>RUNNING </td><td>172.17.0.2:664</td><td style=\"text-align: right;\">           344</td><td style=\"text-align: right;\">      0.521398</td><td style=\"text-align: right;\">          4</td><td style=\"text-align: right;\">         113.997</td><td style=\"text-align: right;\">    13</td></tr>\n",
       "</tbody>\n",
       "</table><br><br>"
      ],
      "text/plain": [
       "<IPython.core.display.HTML object>"
      ]
     },
     "metadata": {},
     "output_type": "display_data"
    },
    {
     "name": "stdout",
     "output_type": "stream",
     "text": [
      "Result for WrappedTrainable:\n",
      "  date: 2020-03-24_16-58-26\n",
      "  done: false\n",
      "  experiment_id: 48a4678dee104a0aaee9bd1544377e32\n",
      "  experiment_tag: 0_max_depth=4,max_features=0.5214,n_estimators=344\n",
      "  hostname: 00b88c234adf\n",
      "  infer_time: 0.0603\n",
      "  is_bad: false\n",
      "  iterations_since_restore: 14\n",
      "  node_ip: 172.17.0.2\n",
      "  pid: 664\n",
      "  test_accuracy: 0.7352030277252197\n",
      "  time_since_restore: 122.80207538604736\n",
      "  time_this_iter_s: 8.805083990097046\n",
      "  time_total_s: 122.80207538604736\n",
      "  timestamp: 1585069106\n",
      "  timesteps_since_restore: 0\n",
      "  train_time: 8.6342\n",
      "  training_iteration: 14\n",
      "  trial_id: 627212e2\n",
      "  \n"
     ]
    },
    {
     "data": {
      "text/html": [
       "== Status ==<br>Memory usage on this node: 12.5/45.8 GiB<br>PopulationBasedTraining: 0 checkpoints, 0 perturbs<br>Resources requested: 6/12 CPUs, 1/2 GPUs, 0.0/23.14 GiB heap, 0.0/7.96 GiB objects<br>Result logdir: /home/hyperopt/RayTune/aws-sagemaker-gtc-2020/raytune/.results/2020-03-24_16-56-19__2020-03-24_16-56-19__<br>Number of trials: 1 (1 RUNNING)<br><table>\n",
       "<thead>\n",
       "<tr><th>Trial name      </th><th>status  </th><th>loc           </th><th style=\"text-align: right;\">  n_estimators</th><th style=\"text-align: right;\">  max_features</th><th style=\"text-align: right;\">  max_depth</th><th style=\"text-align: right;\">  total time (s)</th><th style=\"text-align: right;\">  iter</th></tr>\n",
       "</thead>\n",
       "<tbody>\n",
       "<tr><td>WrappedTrainable</td><td>RUNNING </td><td>172.17.0.2:664</td><td style=\"text-align: right;\">           344</td><td style=\"text-align: right;\">      0.521398</td><td style=\"text-align: right;\">          4</td><td style=\"text-align: right;\">         122.802</td><td style=\"text-align: right;\">    14</td></tr>\n",
       "</tbody>\n",
       "</table><br><br>"
      ],
      "text/plain": [
       "<IPython.core.display.HTML object>"
      ]
     },
     "metadata": {},
     "output_type": "display_data"
    },
    {
     "name": "stdout",
     "output_type": "stream",
     "text": [
      "\u001b[2m\u001b[36m(pid=664)\u001b[0m INFO:BaseTrainTransformer:test_accuracy: 0.7352030277252197\n",
      "Result for WrappedTrainable:\n",
      "  date: 2020-03-24_16-58-35\n",
      "  done: false\n",
      "  experiment_id: 48a4678dee104a0aaee9bd1544377e32\n",
      "  experiment_tag: 0_max_depth=4,max_features=0.5214,n_estimators=344\n",
      "  hostname: 00b88c234adf\n",
      "  infer_time: 0.0601\n",
      "  is_bad: false\n",
      "  iterations_since_restore: 15\n",
      "  node_ip: 172.17.0.2\n",
      "  pid: 664\n",
      "  test_accuracy: 0.7352575063705444\n",
      "  time_since_restore: 131.60943627357483\n",
      "  time_this_iter_s: 8.807360887527466\n",
      "  time_total_s: 131.60943627357483\n",
      "  timestamp: 1585069115\n",
      "  timesteps_since_restore: 0\n",
      "  train_time: 8.638\n",
      "  training_iteration: 15\n",
      "  trial_id: 627212e2\n",
      "  \n"
     ]
    },
    {
     "data": {
      "text/html": [
       "== Status ==<br>Memory usage on this node: 12.5/45.8 GiB<br>PopulationBasedTraining: 0 checkpoints, 0 perturbs<br>Resources requested: 6/12 CPUs, 1/2 GPUs, 0.0/23.14 GiB heap, 0.0/7.96 GiB objects<br>Result logdir: /home/hyperopt/RayTune/aws-sagemaker-gtc-2020/raytune/.results/2020-03-24_16-56-19__2020-03-24_16-56-19__<br>Number of trials: 1 (1 RUNNING)<br><table>\n",
       "<thead>\n",
       "<tr><th>Trial name      </th><th>status  </th><th>loc           </th><th style=\"text-align: right;\">  n_estimators</th><th style=\"text-align: right;\">  max_features</th><th style=\"text-align: right;\">  max_depth</th><th style=\"text-align: right;\">  total time (s)</th><th style=\"text-align: right;\">  iter</th></tr>\n",
       "</thead>\n",
       "<tbody>\n",
       "<tr><td>WrappedTrainable</td><td>RUNNING </td><td>172.17.0.2:664</td><td style=\"text-align: right;\">           344</td><td style=\"text-align: right;\">      0.521398</td><td style=\"text-align: right;\">          4</td><td style=\"text-align: right;\">         131.609</td><td style=\"text-align: right;\">    15</td></tr>\n",
       "</tbody>\n",
       "</table><br><br>"
      ],
      "text/plain": [
       "<IPython.core.display.HTML object>"
      ]
     },
     "metadata": {},
     "output_type": "display_data"
    },
    {
     "name": "stdout",
     "output_type": "stream",
     "text": [
      "\u001b[2m\u001b[36m(pid=664)\u001b[0m INFO:BaseTrainTransformer:test_accuracy: 0.7352575063705444\n",
      "Result for WrappedTrainable:\n",
      "  date: 2020-03-24_16-58-44\n",
      "  done: false\n",
      "  experiment_id: 48a4678dee104a0aaee9bd1544377e32\n",
      "  experiment_tag: 0_max_depth=4,max_features=0.5214,n_estimators=344\n",
      "  hostname: 00b88c234adf\n",
      "  infer_time: 0.06\n",
      "  is_bad: false\n",
      "  iterations_since_restore: 16\n",
      "  node_ip: 172.17.0.2\n",
      "  pid: 664\n",
      "  test_accuracy: 0.7352434992790222\n",
      "  time_since_restore: 140.4034583568573\n",
      "  time_this_iter_s: 8.79402208328247\n",
      "  time_total_s: 140.4034583568573\n",
      "  timestamp: 1585069124\n",
      "  timesteps_since_restore: 0\n",
      "  train_time: 8.625\n",
      "  training_iteration: 16\n",
      "  trial_id: 627212e2\n",
      "  \n"
     ]
    },
    {
     "data": {
      "text/html": [
       "== Status ==<br>Memory usage on this node: 12.5/45.8 GiB<br>PopulationBasedTraining: 0 checkpoints, 0 perturbs<br>Resources requested: 6/12 CPUs, 1/2 GPUs, 0.0/23.14 GiB heap, 0.0/7.96 GiB objects<br>Result logdir: /home/hyperopt/RayTune/aws-sagemaker-gtc-2020/raytune/.results/2020-03-24_16-56-19__2020-03-24_16-56-19__<br>Number of trials: 1 (1 RUNNING)<br><table>\n",
       "<thead>\n",
       "<tr><th>Trial name      </th><th>status  </th><th>loc           </th><th style=\"text-align: right;\">  n_estimators</th><th style=\"text-align: right;\">  max_features</th><th style=\"text-align: right;\">  max_depth</th><th style=\"text-align: right;\">  total time (s)</th><th style=\"text-align: right;\">  iter</th></tr>\n",
       "</thead>\n",
       "<tbody>\n",
       "<tr><td>WrappedTrainable</td><td>RUNNING </td><td>172.17.0.2:664</td><td style=\"text-align: right;\">           344</td><td style=\"text-align: right;\">      0.521398</td><td style=\"text-align: right;\">          4</td><td style=\"text-align: right;\">         140.403</td><td style=\"text-align: right;\">    16</td></tr>\n",
       "</tbody>\n",
       "</table><br><br>"
      ],
      "text/plain": [
       "<IPython.core.display.HTML object>"
      ]
     },
     "metadata": {},
     "output_type": "display_data"
    },
    {
     "name": "stdout",
     "output_type": "stream",
     "text": [
      "\u001b[2m\u001b[36m(pid=664)\u001b[0m INFO:BaseTrainTransformer:test_accuracy: 0.7352434992790222\n",
      "Result for WrappedTrainable:\n",
      "  date: 2020-03-24_16-58-53\n",
      "  done: false\n",
      "  experiment_id: 48a4678dee104a0aaee9bd1544377e32\n",
      "  experiment_tag: 0_max_depth=4,max_features=0.5214,n_estimators=344\n",
      "  hostname: 00b88c234adf\n",
      "  infer_time: 0.0605\n",
      "  is_bad: false\n",
      "  iterations_since_restore: 17\n",
      "  node_ip: 172.17.0.2\n",
      "  pid: 664\n",
      "  test_accuracy: 0.7355934977531433\n",
      "  time_since_restore: 149.2143795490265\n",
      "  time_this_iter_s: 8.81092119216919\n",
      "  time_total_s: 149.2143795490265\n",
      "  timestamp: 1585069133\n",
      "  timesteps_since_restore: 0\n",
      "  train_time: 8.6404\n",
      "  training_iteration: 17\n",
      "  trial_id: 627212e2\n",
      "  \n"
     ]
    },
    {
     "data": {
      "text/html": [
       "== Status ==<br>Memory usage on this node: 12.5/45.8 GiB<br>PopulationBasedTraining: 0 checkpoints, 0 perturbs<br>Resources requested: 6/12 CPUs, 1/2 GPUs, 0.0/23.14 GiB heap, 0.0/7.96 GiB objects<br>Result logdir: /home/hyperopt/RayTune/aws-sagemaker-gtc-2020/raytune/.results/2020-03-24_16-56-19__2020-03-24_16-56-19__<br>Number of trials: 1 (1 RUNNING)<br><table>\n",
       "<thead>\n",
       "<tr><th>Trial name      </th><th>status  </th><th>loc           </th><th style=\"text-align: right;\">  n_estimators</th><th style=\"text-align: right;\">  max_features</th><th style=\"text-align: right;\">  max_depth</th><th style=\"text-align: right;\">  total time (s)</th><th style=\"text-align: right;\">  iter</th></tr>\n",
       "</thead>\n",
       "<tbody>\n",
       "<tr><td>WrappedTrainable</td><td>RUNNING </td><td>172.17.0.2:664</td><td style=\"text-align: right;\">           344</td><td style=\"text-align: right;\">      0.521398</td><td style=\"text-align: right;\">          4</td><td style=\"text-align: right;\">         149.214</td><td style=\"text-align: right;\">    17</td></tr>\n",
       "</tbody>\n",
       "</table><br><br>"
      ],
      "text/plain": [
       "<IPython.core.display.HTML object>"
      ]
     },
     "metadata": {},
     "output_type": "display_data"
    },
    {
     "name": "stdout",
     "output_type": "stream",
     "text": [
      "\u001b[2m\u001b[36m(pid=664)\u001b[0m INFO:BaseTrainTransformer:test_accuracy: 0.7355934977531433\n",
      "Result for WrappedTrainable:\n",
      "  date: 2020-03-24_16-59-02\n",
      "  done: false\n",
      "  experiment_id: 48a4678dee104a0aaee9bd1544377e32\n",
      "  experiment_tag: 0_max_depth=4,max_features=0.5214,n_estimators=344\n",
      "  hostname: 00b88c234adf\n",
      "  infer_time: 0.0602\n",
      "  is_bad: false\n",
      "  iterations_since_restore: 18\n",
      "  node_ip: 172.17.0.2\n",
      "  pid: 664\n",
      "  test_accuracy: 0.7352545261383057\n",
      "  time_since_restore: 158.02079916000366\n",
      "  time_this_iter_s: 8.806419610977173\n",
      "  time_total_s: 158.02079916000366\n",
      "  timestamp: 1585069142\n",
      "  timesteps_since_restore: 0\n",
      "  train_time: 8.6367\n",
      "  training_iteration: 18\n",
      "  trial_id: 627212e2\n",
      "  \n"
     ]
    },
    {
     "data": {
      "text/html": [
       "== Status ==<br>Memory usage on this node: 12.5/45.8 GiB<br>PopulationBasedTraining: 0 checkpoints, 0 perturbs<br>Resources requested: 6/12 CPUs, 1/2 GPUs, 0.0/23.14 GiB heap, 0.0/7.96 GiB objects<br>Result logdir: /home/hyperopt/RayTune/aws-sagemaker-gtc-2020/raytune/.results/2020-03-24_16-56-19__2020-03-24_16-56-19__<br>Number of trials: 1 (1 RUNNING)<br><table>\n",
       "<thead>\n",
       "<tr><th>Trial name      </th><th>status  </th><th>loc           </th><th style=\"text-align: right;\">  n_estimators</th><th style=\"text-align: right;\">  max_features</th><th style=\"text-align: right;\">  max_depth</th><th style=\"text-align: right;\">  total time (s)</th><th style=\"text-align: right;\">  iter</th></tr>\n",
       "</thead>\n",
       "<tbody>\n",
       "<tr><td>WrappedTrainable</td><td>RUNNING </td><td>172.17.0.2:664</td><td style=\"text-align: right;\">           344</td><td style=\"text-align: right;\">      0.521398</td><td style=\"text-align: right;\">          4</td><td style=\"text-align: right;\">         158.021</td><td style=\"text-align: right;\">    18</td></tr>\n",
       "</tbody>\n",
       "</table><br><br>"
      ],
      "text/plain": [
       "<IPython.core.display.HTML object>"
      ]
     },
     "metadata": {},
     "output_type": "display_data"
    },
    {
     "name": "stdout",
     "output_type": "stream",
     "text": [
      "\u001b[2m\u001b[36m(pid=664)\u001b[0m INFO:BaseTrainTransformer:test_accuracy: 0.7352545261383057\n",
      "Result for WrappedTrainable:\n",
      "  date: 2020-03-24_16-59-10\n",
      "  done: false\n",
      "  experiment_id: 48a4678dee104a0aaee9bd1544377e32\n",
      "  experiment_tag: 0_max_depth=4,max_features=0.5214,n_estimators=344\n",
      "  hostname: 00b88c234adf\n",
      "  infer_time: 0.0603\n",
      "  is_bad: false\n",
      "  iterations_since_restore: 19\n",
      "  node_ip: 172.17.0.2\n",
      "  pid: 664\n",
      "  test_accuracy: 0.7353410124778748\n",
      "  time_since_restore: 166.8161141872406\n",
      "  time_this_iter_s: 8.795315027236938\n",
      "  time_total_s: 166.8161141872406\n",
      "  timestamp: 1585069150\n",
      "  timesteps_since_restore: 0\n",
      "  train_time: 8.6237\n",
      "  training_iteration: 19\n",
      "  trial_id: 627212e2\n",
      "  \n"
     ]
    },
    {
     "data": {
      "text/html": [
       "== Status ==<br>Memory usage on this node: 12.5/45.8 GiB<br>PopulationBasedTraining: 0 checkpoints, 0 perturbs<br>Resources requested: 6/12 CPUs, 1/2 GPUs, 0.0/23.14 GiB heap, 0.0/7.96 GiB objects<br>Result logdir: /home/hyperopt/RayTune/aws-sagemaker-gtc-2020/raytune/.results/2020-03-24_16-56-19__2020-03-24_16-56-19__<br>Number of trials: 1 (1 RUNNING)<br><table>\n",
       "<thead>\n",
       "<tr><th>Trial name      </th><th>status  </th><th>loc           </th><th style=\"text-align: right;\">  n_estimators</th><th style=\"text-align: right;\">  max_features</th><th style=\"text-align: right;\">  max_depth</th><th style=\"text-align: right;\">  total time (s)</th><th style=\"text-align: right;\">  iter</th></tr>\n",
       "</thead>\n",
       "<tbody>\n",
       "<tr><td>WrappedTrainable</td><td>RUNNING </td><td>172.17.0.2:664</td><td style=\"text-align: right;\">           344</td><td style=\"text-align: right;\">      0.521398</td><td style=\"text-align: right;\">          4</td><td style=\"text-align: right;\">         166.816</td><td style=\"text-align: right;\">    19</td></tr>\n",
       "</tbody>\n",
       "</table><br><br>"
      ],
      "text/plain": [
       "<IPython.core.display.HTML object>"
      ]
     },
     "metadata": {},
     "output_type": "display_data"
    },
    {
     "name": "stdout",
     "output_type": "stream",
     "text": [
      "\u001b[2m\u001b[36m(pid=664)\u001b[0m INFO:BaseTrainTransformer:test_accuracy: 0.7353410124778748\n",
      "Result for WrappedTrainable:\n",
      "  date: 2020-03-24_16-59-19\n",
      "  done: false\n",
      "  experiment_id: 48a4678dee104a0aaee9bd1544377e32\n",
      "  experiment_tag: 0_max_depth=4,max_features=0.5214,n_estimators=344\n",
      "  hostname: 00b88c234adf\n",
      "  infer_time: 0.0602\n",
      "  is_bad: false\n",
      "  iterations_since_restore: 20\n",
      "  node_ip: 172.17.0.2\n",
      "  pid: 664\n",
      "  test_accuracy: 0.7352499961853027\n",
      "  time_since_restore: 175.62551879882812\n",
      "  time_this_iter_s: 8.809404611587524\n",
      "  time_total_s: 175.62551879882812\n",
      "  timestamp: 1585069159\n",
      "  timesteps_since_restore: 0\n",
      "  train_time: 8.6418\n",
      "  training_iteration: 20\n",
      "  trial_id: 627212e2\n",
      "  \n"
     ]
    },
    {
     "data": {
      "text/html": [
       "== Status ==<br>Memory usage on this node: 12.5/45.8 GiB<br>PopulationBasedTraining: 0 checkpoints, 0 perturbs<br>Resources requested: 6/12 CPUs, 1/2 GPUs, 0.0/23.14 GiB heap, 0.0/7.96 GiB objects<br>Result logdir: /home/hyperopt/RayTune/aws-sagemaker-gtc-2020/raytune/.results/2020-03-24_16-56-19__2020-03-24_16-56-19__<br>Number of trials: 1 (1 RUNNING)<br><table>\n",
       "<thead>\n",
       "<tr><th>Trial name      </th><th>status  </th><th>loc           </th><th style=\"text-align: right;\">  n_estimators</th><th style=\"text-align: right;\">  max_features</th><th style=\"text-align: right;\">  max_depth</th><th style=\"text-align: right;\">  total time (s)</th><th style=\"text-align: right;\">  iter</th></tr>\n",
       "</thead>\n",
       "<tbody>\n",
       "<tr><td>WrappedTrainable</td><td>RUNNING </td><td>172.17.0.2:664</td><td style=\"text-align: right;\">           344</td><td style=\"text-align: right;\">      0.521398</td><td style=\"text-align: right;\">          4</td><td style=\"text-align: right;\">         175.626</td><td style=\"text-align: right;\">    20</td></tr>\n",
       "</tbody>\n",
       "</table><br><br>"
      ],
      "text/plain": [
       "<IPython.core.display.HTML object>"
      ]
     },
     "metadata": {},
     "output_type": "display_data"
    },
    {
     "name": "stdout",
     "output_type": "stream",
     "text": [
      "\u001b[2m\u001b[36m(pid=664)\u001b[0m INFO:BaseTrainTransformer:test_accuracy: 0.7352499961853027\n",
      "Result for WrappedTrainable:\n",
      "  date: 2020-03-24_16-59-28\n",
      "  done: false\n",
      "  experiment_id: 48a4678dee104a0aaee9bd1544377e32\n",
      "  experiment_tag: 0_max_depth=4,max_features=0.5214,n_estimators=344\n",
      "  hostname: 00b88c234adf\n",
      "  infer_time: 0.0606\n",
      "  is_bad: false\n",
      "  iterations_since_restore: 21\n",
      "  node_ip: 172.17.0.2\n",
      "  pid: 664\n",
      "  test_accuracy: 0.7351624965667725\n",
      "  time_since_restore: 184.42883968353271\n",
      "  time_this_iter_s: 8.80332088470459\n",
      "  time_total_s: 184.42883968353271\n",
      "  timestamp: 1585069168\n",
      "  timesteps_since_restore: 0\n",
      "  train_time: 8.6287\n",
      "  training_iteration: 21\n",
      "  trial_id: 627212e2\n",
      "  \n"
     ]
    },
    {
     "data": {
      "text/html": [
       "== Status ==<br>Memory usage on this node: 12.5/45.8 GiB<br>PopulationBasedTraining: 0 checkpoints, 0 perturbs<br>Resources requested: 6/12 CPUs, 1/2 GPUs, 0.0/23.14 GiB heap, 0.0/7.96 GiB objects<br>Result logdir: /home/hyperopt/RayTune/aws-sagemaker-gtc-2020/raytune/.results/2020-03-24_16-56-19__2020-03-24_16-56-19__<br>Number of trials: 1 (1 RUNNING)<br><table>\n",
       "<thead>\n",
       "<tr><th>Trial name      </th><th>status  </th><th>loc           </th><th style=\"text-align: right;\">  n_estimators</th><th style=\"text-align: right;\">  max_features</th><th style=\"text-align: right;\">  max_depth</th><th style=\"text-align: right;\">  total time (s)</th><th style=\"text-align: right;\">  iter</th></tr>\n",
       "</thead>\n",
       "<tbody>\n",
       "<tr><td>WrappedTrainable</td><td>RUNNING </td><td>172.17.0.2:664</td><td style=\"text-align: right;\">           344</td><td style=\"text-align: right;\">      0.521398</td><td style=\"text-align: right;\">          4</td><td style=\"text-align: right;\">         184.429</td><td style=\"text-align: right;\">    21</td></tr>\n",
       "</tbody>\n",
       "</table><br><br>"
      ],
      "text/plain": [
       "<IPython.core.display.HTML object>"
      ]
     },
     "metadata": {},
     "output_type": "display_data"
    },
    {
     "name": "stdout",
     "output_type": "stream",
     "text": [
      "\u001b[2m\u001b[36m(pid=664)\u001b[0m INFO:BaseTrainTransformer:test_accuracy: 0.7351624965667725\n",
      "Result for WrappedTrainable:\n",
      "  date: 2020-03-24_16-59-37\n",
      "  done: false\n",
      "  experiment_id: 48a4678dee104a0aaee9bd1544377e32\n",
      "  experiment_tag: 0_max_depth=4,max_features=0.5214,n_estimators=344\n",
      "  hostname: 00b88c234adf\n",
      "  infer_time: 0.0609\n",
      "  is_bad: false\n",
      "  iterations_since_restore: 22\n",
      "  node_ip: 172.17.0.2\n",
      "  pid: 664\n",
      "  test_accuracy: 0.7353760004043579\n",
      "  time_since_restore: 193.22984552383423\n",
      "  time_this_iter_s: 8.801005840301514\n",
      "  time_total_s: 193.22984552383423\n",
      "  timestamp: 1585069177\n",
      "  timesteps_since_restore: 0\n",
      "  train_time: 8.632\n",
      "  training_iteration: 22\n",
      "  trial_id: 627212e2\n",
      "  \n"
     ]
    },
    {
     "data": {
      "text/html": [
       "== Status ==<br>Memory usage on this node: 12.5/45.8 GiB<br>PopulationBasedTraining: 0 checkpoints, 0 perturbs<br>Resources requested: 6/12 CPUs, 1/2 GPUs, 0.0/23.14 GiB heap, 0.0/7.96 GiB objects<br>Result logdir: /home/hyperopt/RayTune/aws-sagemaker-gtc-2020/raytune/.results/2020-03-24_16-56-19__2020-03-24_16-56-19__<br>Number of trials: 1 (1 RUNNING)<br><table>\n",
       "<thead>\n",
       "<tr><th>Trial name      </th><th>status  </th><th>loc           </th><th style=\"text-align: right;\">  n_estimators</th><th style=\"text-align: right;\">  max_features</th><th style=\"text-align: right;\">  max_depth</th><th style=\"text-align: right;\">  total time (s)</th><th style=\"text-align: right;\">  iter</th></tr>\n",
       "</thead>\n",
       "<tbody>\n",
       "<tr><td>WrappedTrainable</td><td>RUNNING </td><td>172.17.0.2:664</td><td style=\"text-align: right;\">           344</td><td style=\"text-align: right;\">      0.521398</td><td style=\"text-align: right;\">          4</td><td style=\"text-align: right;\">          193.23</td><td style=\"text-align: right;\">    22</td></tr>\n",
       "</tbody>\n",
       "</table><br><br>"
      ],
      "text/plain": [
       "<IPython.core.display.HTML object>"
      ]
     },
     "metadata": {},
     "output_type": "display_data"
    },
    {
     "name": "stdout",
     "output_type": "stream",
     "text": [
      "\u001b[2m\u001b[36m(pid=664)\u001b[0m INFO:BaseTrainTransformer:test_accuracy: 0.7353760004043579\n",
      "Result for WrappedTrainable:\n",
      "  date: 2020-03-24_16-59-46\n",
      "  done: false\n",
      "  experiment_id: 48a4678dee104a0aaee9bd1544377e32\n",
      "  experiment_tag: 0_max_depth=4,max_features=0.5214,n_estimators=344\n",
      "  hostname: 00b88c234adf\n",
      "  infer_time: 0.0605\n",
      "  is_bad: false\n",
      "  iterations_since_restore: 23\n",
      "  node_ip: 172.17.0.2\n",
      "  pid: 664\n",
      "  test_accuracy: 0.7356535196304321\n",
      "  time_since_restore: 202.0369553565979\n",
      "  time_this_iter_s: 8.807109832763672\n",
      "  time_total_s: 202.0369553565979\n",
      "  timestamp: 1585069186\n",
      "  timesteps_since_restore: 0\n",
      "  train_time: 8.6315\n",
      "  training_iteration: 23\n",
      "  trial_id: 627212e2\n",
      "  \n"
     ]
    },
    {
     "data": {
      "text/html": [
       "== Status ==<br>Memory usage on this node: 12.5/45.8 GiB<br>PopulationBasedTraining: 0 checkpoints, 0 perturbs<br>Resources requested: 6/12 CPUs, 1/2 GPUs, 0.0/23.14 GiB heap, 0.0/7.96 GiB objects<br>Result logdir: /home/hyperopt/RayTune/aws-sagemaker-gtc-2020/raytune/.results/2020-03-24_16-56-19__2020-03-24_16-56-19__<br>Number of trials: 1 (1 RUNNING)<br><table>\n",
       "<thead>\n",
       "<tr><th>Trial name      </th><th>status  </th><th>loc           </th><th style=\"text-align: right;\">  n_estimators</th><th style=\"text-align: right;\">  max_features</th><th style=\"text-align: right;\">  max_depth</th><th style=\"text-align: right;\">  total time (s)</th><th style=\"text-align: right;\">  iter</th></tr>\n",
       "</thead>\n",
       "<tbody>\n",
       "<tr><td>WrappedTrainable</td><td>RUNNING </td><td>172.17.0.2:664</td><td style=\"text-align: right;\">           344</td><td style=\"text-align: right;\">      0.521398</td><td style=\"text-align: right;\">          4</td><td style=\"text-align: right;\">         202.037</td><td style=\"text-align: right;\">    23</td></tr>\n",
       "</tbody>\n",
       "</table><br><br>"
      ],
      "text/plain": [
       "<IPython.core.display.HTML object>"
      ]
     },
     "metadata": {},
     "output_type": "display_data"
    },
    {
     "name": "stdout",
     "output_type": "stream",
     "text": [
      "\u001b[2m\u001b[36m(pid=664)\u001b[0m INFO:BaseTrainTransformer:test_accuracy: 0.7356535196304321\n",
      "Result for WrappedTrainable:\n",
      "  date: 2020-03-24_16-59-54\n",
      "  done: false\n",
      "  experiment_id: 48a4678dee104a0aaee9bd1544377e32\n",
      "  experiment_tag: 0_max_depth=4,max_features=0.5214,n_estimators=344\n",
      "  hostname: 00b88c234adf\n",
      "  infer_time: 0.061\n",
      "  is_bad: false\n",
      "  iterations_since_restore: 24\n",
      "  node_ip: 172.17.0.2\n",
      "  pid: 664\n",
      "  test_accuracy: 0.735371470451355\n",
      "  time_since_restore: 210.83695554733276\n",
      "  time_this_iter_s: 8.800000190734863\n",
      "  time_total_s: 210.83695554733276\n",
      "  timestamp: 1585069194\n",
      "  timesteps_since_restore: 0\n",
      "  train_time: 8.6289\n",
      "  training_iteration: 24\n",
      "  trial_id: 627212e2\n",
      "  \n"
     ]
    },
    {
     "data": {
      "text/html": [
       "== Status ==<br>Memory usage on this node: 12.5/45.8 GiB<br>PopulationBasedTraining: 0 checkpoints, 0 perturbs<br>Resources requested: 6/12 CPUs, 1/2 GPUs, 0.0/23.14 GiB heap, 0.0/7.96 GiB objects<br>Result logdir: /home/hyperopt/RayTune/aws-sagemaker-gtc-2020/raytune/.results/2020-03-24_16-56-19__2020-03-24_16-56-19__<br>Number of trials: 1 (1 RUNNING)<br><table>\n",
       "<thead>\n",
       "<tr><th>Trial name      </th><th>status  </th><th>loc           </th><th style=\"text-align: right;\">  n_estimators</th><th style=\"text-align: right;\">  max_features</th><th style=\"text-align: right;\">  max_depth</th><th style=\"text-align: right;\">  total time (s)</th><th style=\"text-align: right;\">  iter</th></tr>\n",
       "</thead>\n",
       "<tbody>\n",
       "<tr><td>WrappedTrainable</td><td>RUNNING </td><td>172.17.0.2:664</td><td style=\"text-align: right;\">           344</td><td style=\"text-align: right;\">      0.521398</td><td style=\"text-align: right;\">          4</td><td style=\"text-align: right;\">         210.837</td><td style=\"text-align: right;\">    24</td></tr>\n",
       "</tbody>\n",
       "</table><br><br>"
      ],
      "text/plain": [
       "<IPython.core.display.HTML object>"
      ]
     },
     "metadata": {},
     "output_type": "display_data"
    },
    {
     "name": "stdout",
     "output_type": "stream",
     "text": [
      "\u001b[2m\u001b[36m(pid=664)\u001b[0m INFO:BaseTrainTransformer:test_accuracy: 0.735371470451355\n",
      "Result for WrappedTrainable:\n",
      "  date: 2020-03-24_17-00-03\n",
      "  done: false\n",
      "  experiment_id: 48a4678dee104a0aaee9bd1544377e32\n",
      "  experiment_tag: 0_max_depth=4,max_features=0.5214,n_estimators=344\n",
      "  hostname: 00b88c234adf\n",
      "  infer_time: 0.0614\n",
      "  is_bad: false\n",
      "  iterations_since_restore: 25\n",
      "  node_ip: 172.17.0.2\n",
      "  pid: 664\n",
      "  test_accuracy: 0.7353695034980774\n",
      "  time_since_restore: 219.65000176429749\n",
      "  time_this_iter_s: 8.813046216964722\n",
      "  time_total_s: 219.65000176429749\n",
      "  timestamp: 1585069203\n",
      "  timesteps_since_restore: 0\n",
      "  train_time: 8.6439\n",
      "  training_iteration: 25\n",
      "  trial_id: 627212e2\n",
      "  \n"
     ]
    },
    {
     "data": {
      "text/html": [
       "== Status ==<br>Memory usage on this node: 12.5/45.8 GiB<br>PopulationBasedTraining: 0 checkpoints, 0 perturbs<br>Resources requested: 6/12 CPUs, 1/2 GPUs, 0.0/23.14 GiB heap, 0.0/7.96 GiB objects<br>Result logdir: /home/hyperopt/RayTune/aws-sagemaker-gtc-2020/raytune/.results/2020-03-24_16-56-19__2020-03-24_16-56-19__<br>Number of trials: 1 (1 RUNNING)<br><table>\n",
       "<thead>\n",
       "<tr><th>Trial name      </th><th>status  </th><th>loc           </th><th style=\"text-align: right;\">  n_estimators</th><th style=\"text-align: right;\">  max_features</th><th style=\"text-align: right;\">  max_depth</th><th style=\"text-align: right;\">  total time (s)</th><th style=\"text-align: right;\">  iter</th></tr>\n",
       "</thead>\n",
       "<tbody>\n",
       "<tr><td>WrappedTrainable</td><td>RUNNING </td><td>172.17.0.2:664</td><td style=\"text-align: right;\">           344</td><td style=\"text-align: right;\">      0.521398</td><td style=\"text-align: right;\">          4</td><td style=\"text-align: right;\">          219.65</td><td style=\"text-align: right;\">    25</td></tr>\n",
       "</tbody>\n",
       "</table><br><br>"
      ],
      "text/plain": [
       "<IPython.core.display.HTML object>"
      ]
     },
     "metadata": {},
     "output_type": "display_data"
    },
    {
     "name": "stdout",
     "output_type": "stream",
     "text": [
      "\u001b[2m\u001b[36m(pid=664)\u001b[0m INFO:BaseTrainTransformer:test_accuracy: 0.7353695034980774\n",
      "Result for WrappedTrainable:\n",
      "  date: 2020-03-24_17-00-12\n",
      "  done: false\n",
      "  experiment_id: 48a4678dee104a0aaee9bd1544377e32\n",
      "  experiment_tag: 0_max_depth=4,max_features=0.5214,n_estimators=344\n",
      "  hostname: 00b88c234adf\n",
      "  infer_time: 0.0607\n",
      "  is_bad: false\n",
      "  iterations_since_restore: 26\n",
      "  node_ip: 172.17.0.2\n",
      "  pid: 664\n",
      "  test_accuracy: 0.7350900173187256\n",
      "  time_since_restore: 228.45145511627197\n",
      "  time_this_iter_s: 8.801453351974487\n",
      "  time_total_s: 228.45145511627197\n",
      "  timestamp: 1585069212\n",
      "  timesteps_since_restore: 0\n",
      "  train_time: 8.6325\n",
      "  training_iteration: 26\n",
      "  trial_id: 627212e2\n",
      "  \n"
     ]
    },
    {
     "data": {
      "text/html": [
       "== Status ==<br>Memory usage on this node: 12.5/45.8 GiB<br>PopulationBasedTraining: 0 checkpoints, 0 perturbs<br>Resources requested: 6/12 CPUs, 1/2 GPUs, 0.0/23.14 GiB heap, 0.0/7.96 GiB objects<br>Result logdir: /home/hyperopt/RayTune/aws-sagemaker-gtc-2020/raytune/.results/2020-03-24_16-56-19__2020-03-24_16-56-19__<br>Number of trials: 1 (1 RUNNING)<br><table>\n",
       "<thead>\n",
       "<tr><th>Trial name      </th><th>status  </th><th>loc           </th><th style=\"text-align: right;\">  n_estimators</th><th style=\"text-align: right;\">  max_features</th><th style=\"text-align: right;\">  max_depth</th><th style=\"text-align: right;\">  total time (s)</th><th style=\"text-align: right;\">  iter</th></tr>\n",
       "</thead>\n",
       "<tbody>\n",
       "<tr><td>WrappedTrainable</td><td>RUNNING </td><td>172.17.0.2:664</td><td style=\"text-align: right;\">           344</td><td style=\"text-align: right;\">      0.521398</td><td style=\"text-align: right;\">          4</td><td style=\"text-align: right;\">         228.451</td><td style=\"text-align: right;\">    26</td></tr>\n",
       "</tbody>\n",
       "</table><br><br>"
      ],
      "text/plain": [
       "<IPython.core.display.HTML object>"
      ]
     },
     "metadata": {},
     "output_type": "display_data"
    },
    {
     "name": "stdout",
     "output_type": "stream",
     "text": [
      "\u001b[2m\u001b[36m(pid=664)\u001b[0m INFO:BaseTrainTransformer:test_accuracy: 0.7350900173187256\n",
      "Result for WrappedTrainable:\n",
      "  date: 2020-03-24_17-00-21\n",
      "  done: false\n",
      "  experiment_id: 48a4678dee104a0aaee9bd1544377e32\n",
      "  experiment_tag: 0_max_depth=4,max_features=0.5214,n_estimators=344\n",
      "  hostname: 00b88c234adf\n",
      "  infer_time: 0.0613\n",
      "  is_bad: false\n",
      "  iterations_since_restore: 27\n",
      "  node_ip: 172.17.0.2\n",
      "  pid: 664\n",
      "  test_accuracy: 0.7355524897575378\n",
      "  time_since_restore: 237.25284099578857\n",
      "  time_this_iter_s: 8.801385879516602\n",
      "  time_total_s: 237.25284099578857\n",
      "  timestamp: 1585069221\n",
      "  timesteps_since_restore: 0\n",
      "  train_time: 8.6313\n",
      "  training_iteration: 27\n",
      "  trial_id: 627212e2\n",
      "  \n"
     ]
    },
    {
     "data": {
      "text/html": [
       "== Status ==<br>Memory usage on this node: 12.5/45.8 GiB<br>PopulationBasedTraining: 0 checkpoints, 0 perturbs<br>Resources requested: 6/12 CPUs, 1/2 GPUs, 0.0/23.14 GiB heap, 0.0/7.96 GiB objects<br>Result logdir: /home/hyperopt/RayTune/aws-sagemaker-gtc-2020/raytune/.results/2020-03-24_16-56-19__2020-03-24_16-56-19__<br>Number of trials: 1 (1 RUNNING)<br><table>\n",
       "<thead>\n",
       "<tr><th>Trial name      </th><th>status  </th><th>loc           </th><th style=\"text-align: right;\">  n_estimators</th><th style=\"text-align: right;\">  max_features</th><th style=\"text-align: right;\">  max_depth</th><th style=\"text-align: right;\">  total time (s)</th><th style=\"text-align: right;\">  iter</th></tr>\n",
       "</thead>\n",
       "<tbody>\n",
       "<tr><td>WrappedTrainable</td><td>RUNNING </td><td>172.17.0.2:664</td><td style=\"text-align: right;\">           344</td><td style=\"text-align: right;\">      0.521398</td><td style=\"text-align: right;\">          4</td><td style=\"text-align: right;\">         237.253</td><td style=\"text-align: right;\">    27</td></tr>\n",
       "</tbody>\n",
       "</table><br><br>"
      ],
      "text/plain": [
       "<IPython.core.display.HTML object>"
      ]
     },
     "metadata": {},
     "output_type": "display_data"
    },
    {
     "name": "stdout",
     "output_type": "stream",
     "text": [
      "\u001b[2m\u001b[36m(pid=664)\u001b[0m INFO:BaseTrainTransformer:test_accuracy: 0.7355524897575378\n",
      "Result for WrappedTrainable:\n",
      "  date: 2020-03-24_17-00-30\n",
      "  done: false\n",
      "  experiment_id: 48a4678dee104a0aaee9bd1544377e32\n",
      "  experiment_tag: 0_max_depth=4,max_features=0.5214,n_estimators=344\n",
      "  hostname: 00b88c234adf\n",
      "  infer_time: 0.061\n",
      "  is_bad: false\n",
      "  iterations_since_restore: 28\n",
      "  node_ip: 172.17.0.2\n",
      "  pid: 664\n",
      "  test_accuracy: 0.7353125214576721\n",
      "  time_since_restore: 246.0602307319641\n",
      "  time_this_iter_s: 8.807389736175537\n",
      "  time_total_s: 246.0602307319641\n",
      "  timestamp: 1585069230\n",
      "  timesteps_since_restore: 0\n",
      "  train_time: 8.6378\n",
      "  training_iteration: 28\n",
      "  trial_id: 627212e2\n",
      "  \n"
     ]
    },
    {
     "data": {
      "text/html": [
       "== Status ==<br>Memory usage on this node: 12.5/45.8 GiB<br>PopulationBasedTraining: 0 checkpoints, 0 perturbs<br>Resources requested: 6/12 CPUs, 1/2 GPUs, 0.0/23.14 GiB heap, 0.0/7.96 GiB objects<br>Result logdir: /home/hyperopt/RayTune/aws-sagemaker-gtc-2020/raytune/.results/2020-03-24_16-56-19__2020-03-24_16-56-19__<br>Number of trials: 1 (1 RUNNING)<br><table>\n",
       "<thead>\n",
       "<tr><th>Trial name      </th><th>status  </th><th>loc           </th><th style=\"text-align: right;\">  n_estimators</th><th style=\"text-align: right;\">  max_features</th><th style=\"text-align: right;\">  max_depth</th><th style=\"text-align: right;\">  total time (s)</th><th style=\"text-align: right;\">  iter</th></tr>\n",
       "</thead>\n",
       "<tbody>\n",
       "<tr><td>WrappedTrainable</td><td>RUNNING </td><td>172.17.0.2:664</td><td style=\"text-align: right;\">           344</td><td style=\"text-align: right;\">      0.521398</td><td style=\"text-align: right;\">          4</td><td style=\"text-align: right;\">          246.06</td><td style=\"text-align: right;\">    28</td></tr>\n",
       "</tbody>\n",
       "</table><br><br>"
      ],
      "text/plain": [
       "<IPython.core.display.HTML object>"
      ]
     },
     "metadata": {},
     "output_type": "display_data"
    },
    {
     "name": "stdout",
     "output_type": "stream",
     "text": [
      "\u001b[2m\u001b[36m(pid=664)\u001b[0m INFO:BaseTrainTransformer:test_accuracy: 0.7353125214576721\n",
      "Result for WrappedTrainable:\n",
      "  date: 2020-03-24_17-00-38\n",
      "  done: false\n",
      "  experiment_id: 48a4678dee104a0aaee9bd1544377e32\n",
      "  experiment_tag: 0_max_depth=4,max_features=0.5214,n_estimators=344\n",
      "  hostname: 00b88c234adf\n",
      "  infer_time: 0.0599\n",
      "  is_bad: false\n",
      "  iterations_since_restore: 29\n",
      "  node_ip: 172.17.0.2\n",
      "  pid: 664\n",
      "  test_accuracy: 0.7349550127983093\n",
      "  time_since_restore: 254.86125707626343\n",
      "  time_this_iter_s: 8.801026344299316\n",
      "  time_total_s: 254.86125707626343\n",
      "  timestamp: 1585069238\n",
      "  timesteps_since_restore: 0\n",
      "  train_time: 8.6306\n",
      "  training_iteration: 29\n",
      "  trial_id: 627212e2\n",
      "  \n"
     ]
    },
    {
     "data": {
      "text/html": [
       "== Status ==<br>Memory usage on this node: 12.5/45.8 GiB<br>PopulationBasedTraining: 0 checkpoints, 0 perturbs<br>Resources requested: 6/12 CPUs, 1/2 GPUs, 0.0/23.14 GiB heap, 0.0/7.96 GiB objects<br>Result logdir: /home/hyperopt/RayTune/aws-sagemaker-gtc-2020/raytune/.results/2020-03-24_16-56-19__2020-03-24_16-56-19__<br>Number of trials: 1 (1 RUNNING)<br><table>\n",
       "<thead>\n",
       "<tr><th>Trial name      </th><th>status  </th><th>loc           </th><th style=\"text-align: right;\">  n_estimators</th><th style=\"text-align: right;\">  max_features</th><th style=\"text-align: right;\">  max_depth</th><th style=\"text-align: right;\">  total time (s)</th><th style=\"text-align: right;\">  iter</th></tr>\n",
       "</thead>\n",
       "<tbody>\n",
       "<tr><td>WrappedTrainable</td><td>RUNNING </td><td>172.17.0.2:664</td><td style=\"text-align: right;\">           344</td><td style=\"text-align: right;\">      0.521398</td><td style=\"text-align: right;\">          4</td><td style=\"text-align: right;\">         254.861</td><td style=\"text-align: right;\">    29</td></tr>\n",
       "</tbody>\n",
       "</table><br><br>"
      ],
      "text/plain": [
       "<IPython.core.display.HTML object>"
      ]
     },
     "metadata": {},
     "output_type": "display_data"
    },
    {
     "name": "stdout",
     "output_type": "stream",
     "text": [
      "\u001b[2m\u001b[36m(pid=664)\u001b[0m INFO:BaseTrainTransformer:test_accuracy: 0.7349550127983093\n",
      "Result for WrappedTrainable:\n",
      "  date: 2020-03-24_17-00-47\n",
      "  done: false\n",
      "  experiment_id: 48a4678dee104a0aaee9bd1544377e32\n",
      "  experiment_tag: 0_max_depth=4,max_features=0.5214,n_estimators=344\n",
      "  hostname: 00b88c234adf\n",
      "  infer_time: 0.0609\n",
      "  is_bad: false\n",
      "  iterations_since_restore: 30\n",
      "  node_ip: 172.17.0.2\n",
      "  pid: 664\n",
      "  test_accuracy: 0.734857976436615\n",
      "  time_since_restore: 263.6661841869354\n",
      "  time_this_iter_s: 8.804927110671997\n",
      "  time_total_s: 263.6661841869354\n",
      "  timestamp: 1585069247\n",
      "  timesteps_since_restore: 0\n",
      "  train_time: 8.6369\n",
      "  training_iteration: 30\n",
      "  trial_id: 627212e2\n",
      "  \n"
     ]
    },
    {
     "data": {
      "text/html": [
       "== Status ==<br>Memory usage on this node: 12.5/45.8 GiB<br>PopulationBasedTraining: 0 checkpoints, 0 perturbs<br>Resources requested: 6/12 CPUs, 1/2 GPUs, 0.0/23.14 GiB heap, 0.0/7.96 GiB objects<br>Result logdir: /home/hyperopt/RayTune/aws-sagemaker-gtc-2020/raytune/.results/2020-03-24_16-56-19__2020-03-24_16-56-19__<br>Number of trials: 1 (1 RUNNING)<br><table>\n",
       "<thead>\n",
       "<tr><th>Trial name      </th><th>status  </th><th>loc           </th><th style=\"text-align: right;\">  n_estimators</th><th style=\"text-align: right;\">  max_features</th><th style=\"text-align: right;\">  max_depth</th><th style=\"text-align: right;\">  total time (s)</th><th style=\"text-align: right;\">  iter</th></tr>\n",
       "</thead>\n",
       "<tbody>\n",
       "<tr><td>WrappedTrainable</td><td>RUNNING </td><td>172.17.0.2:664</td><td style=\"text-align: right;\">           344</td><td style=\"text-align: right;\">      0.521398</td><td style=\"text-align: right;\">          4</td><td style=\"text-align: right;\">         263.666</td><td style=\"text-align: right;\">    30</td></tr>\n",
       "</tbody>\n",
       "</table><br><br>"
      ],
      "text/plain": [
       "<IPython.core.display.HTML object>"
      ]
     },
     "metadata": {},
     "output_type": "display_data"
    },
    {
     "name": "stdout",
     "output_type": "stream",
     "text": [
      "\u001b[2m\u001b[36m(pid=664)\u001b[0m INFO:BaseTrainTransformer:test_accuracy: 0.734857976436615\n",
      "Result for WrappedTrainable:\n",
      "  date: 2020-03-24_17-00-56\n",
      "  done: false\n",
      "  experiment_id: 48a4678dee104a0aaee9bd1544377e32\n",
      "  experiment_tag: 0_max_depth=4,max_features=0.5214,n_estimators=344\n",
      "  hostname: 00b88c234adf\n",
      "  infer_time: 0.0759\n",
      "  is_bad: false\n",
      "  iterations_since_restore: 31\n",
      "  node_ip: 172.17.0.2\n",
      "  pid: 664\n",
      "  test_accuracy: 0.7356684803962708\n",
      "  time_since_restore: 272.4845187664032\n",
      "  time_this_iter_s: 8.818334579467773\n",
      "  time_total_s: 272.4845187664032\n",
      "  timestamp: 1585069256\n",
      "  timesteps_since_restore: 0\n",
      "  train_time: 8.6251\n",
      "  training_iteration: 31\n",
      "  trial_id: 627212e2\n",
      "  \n",
      "\u001b[2m\u001b[36m(pid=664)\u001b[0m INFO:BaseTrainTransformer:test_accuracy: 0.7356684803962708\n"
     ]
    },
    {
     "data": {
      "text/html": [
       "== Status ==<br>Memory usage on this node: 12.5/45.8 GiB<br>PopulationBasedTraining: 0 checkpoints, 0 perturbs<br>Resources requested: 6/12 CPUs, 1/2 GPUs, 0.0/23.14 GiB heap, 0.0/7.96 GiB objects<br>Result logdir: /home/hyperopt/RayTune/aws-sagemaker-gtc-2020/raytune/.results/2020-03-24_16-56-19__2020-03-24_16-56-19__<br>Number of trials: 1 (1 RUNNING)<br><table>\n",
       "<thead>\n",
       "<tr><th>Trial name      </th><th>status  </th><th>loc           </th><th style=\"text-align: right;\">  n_estimators</th><th style=\"text-align: right;\">  max_features</th><th style=\"text-align: right;\">  max_depth</th><th style=\"text-align: right;\">  total time (s)</th><th style=\"text-align: right;\">  iter</th></tr>\n",
       "</thead>\n",
       "<tbody>\n",
       "<tr><td>WrappedTrainable</td><td>RUNNING </td><td>172.17.0.2:664</td><td style=\"text-align: right;\">           344</td><td style=\"text-align: right;\">      0.521398</td><td style=\"text-align: right;\">          4</td><td style=\"text-align: right;\">         272.485</td><td style=\"text-align: right;\">    31</td></tr>\n",
       "</tbody>\n",
       "</table><br><br>"
      ],
      "text/plain": [
       "<IPython.core.display.HTML object>"
      ]
     },
     "metadata": {},
     "output_type": "display_data"
    },
    {
     "name": "stdout",
     "output_type": "stream",
     "text": [
      "Result for WrappedTrainable:\n",
      "  date: 2020-03-24_17-01-05\n",
      "  done: false\n",
      "  experiment_id: 48a4678dee104a0aaee9bd1544377e32\n",
      "  experiment_tag: 0_max_depth=4,max_features=0.5214,n_estimators=344\n",
      "  hostname: 00b88c234adf\n",
      "  infer_time: 0.061\n",
      "  is_bad: false\n",
      "  iterations_since_restore: 32\n",
      "  node_ip: 172.17.0.2\n",
      "  pid: 664\n",
      "  test_accuracy: 0.7357125282287598\n",
      "  time_since_restore: 281.2941744327545\n",
      "  time_this_iter_s: 8.809655666351318\n",
      "  time_total_s: 281.2941744327545\n",
      "  timestamp: 1585069265\n",
      "  timesteps_since_restore: 0\n",
      "  train_time: 8.6402\n",
      "  training_iteration: 32\n",
      "  trial_id: 627212e2\n",
      "  \n"
     ]
    },
    {
     "data": {
      "text/html": [
       "== Status ==<br>Memory usage on this node: 12.5/45.8 GiB<br>PopulationBasedTraining: 0 checkpoints, 0 perturbs<br>Resources requested: 6/12 CPUs, 1/2 GPUs, 0.0/23.14 GiB heap, 0.0/7.96 GiB objects<br>Result logdir: /home/hyperopt/RayTune/aws-sagemaker-gtc-2020/raytune/.results/2020-03-24_16-56-19__2020-03-24_16-56-19__<br>Number of trials: 1 (1 RUNNING)<br><table>\n",
       "<thead>\n",
       "<tr><th>Trial name      </th><th>status  </th><th>loc           </th><th style=\"text-align: right;\">  n_estimators</th><th style=\"text-align: right;\">  max_features</th><th style=\"text-align: right;\">  max_depth</th><th style=\"text-align: right;\">  total time (s)</th><th style=\"text-align: right;\">  iter</th></tr>\n",
       "</thead>\n",
       "<tbody>\n",
       "<tr><td>WrappedTrainable</td><td>RUNNING </td><td>172.17.0.2:664</td><td style=\"text-align: right;\">           344</td><td style=\"text-align: right;\">      0.521398</td><td style=\"text-align: right;\">          4</td><td style=\"text-align: right;\">         281.294</td><td style=\"text-align: right;\">    32</td></tr>\n",
       "</tbody>\n",
       "</table><br><br>"
      ],
      "text/plain": [
       "<IPython.core.display.HTML object>"
      ]
     },
     "metadata": {},
     "output_type": "display_data"
    },
    {
     "name": "stdout",
     "output_type": "stream",
     "text": [
      "\u001b[2m\u001b[36m(pid=664)\u001b[0m INFO:BaseTrainTransformer:test_accuracy: 0.7357125282287598\n",
      "Result for WrappedTrainable:\n",
      "\u001b[2m\u001b[36m(pid=664)\u001b[0m INFO:BaseTrainTransformer:test_accuracy: 0.7352150082588196  date: 2020-03-24_17-01-14\n",
      "  done: false\n",
      "  experiment_id: 48a4678dee104a0aaee9bd1544377e32\n",
      "  experiment_tag: 0_max_depth=4,max_features=0.5214,n_estimators=344\n",
      "  hostname: 00b88c234adf\n",
      "  infer_time: 0.061\n",
      "  is_bad: false\n",
      "  iterations_since_restore: 33\n",
      "  node_ip: 172.17.0.2\n",
      "  pid: 664\n",
      "  test_accuracy: 0.7352150082588196\n",
      "  time_since_restore: 290.0949447154999\n",
      "  time_this_iter_s: 8.800770282745361\n",
      "  time_total_s: 290.0949447154999\n",
      "  timestamp: 1585069274\n",
      "  timesteps_since_restore: 0\n",
      "  train_time: 8.6313\n",
      "  training_iteration: 33\n",
      "  trial_id: 627212e2\n",
      "  \n",
      "\n"
     ]
    },
    {
     "data": {
      "text/html": [
       "== Status ==<br>Memory usage on this node: 12.5/45.8 GiB<br>PopulationBasedTraining: 0 checkpoints, 0 perturbs<br>Resources requested: 6/12 CPUs, 1/2 GPUs, 0.0/23.14 GiB heap, 0.0/7.96 GiB objects<br>Result logdir: /home/hyperopt/RayTune/aws-sagemaker-gtc-2020/raytune/.results/2020-03-24_16-56-19__2020-03-24_16-56-19__<br>Number of trials: 1 (1 RUNNING)<br><table>\n",
       "<thead>\n",
       "<tr><th>Trial name      </th><th>status  </th><th>loc           </th><th style=\"text-align: right;\">  n_estimators</th><th style=\"text-align: right;\">  max_features</th><th style=\"text-align: right;\">  max_depth</th><th style=\"text-align: right;\">  total time (s)</th><th style=\"text-align: right;\">  iter</th></tr>\n",
       "</thead>\n",
       "<tbody>\n",
       "<tr><td>WrappedTrainable</td><td>RUNNING </td><td>172.17.0.2:664</td><td style=\"text-align: right;\">           344</td><td style=\"text-align: right;\">      0.521398</td><td style=\"text-align: right;\">          4</td><td style=\"text-align: right;\">         290.095</td><td style=\"text-align: right;\">    33</td></tr>\n",
       "</tbody>\n",
       "</table><br><br>"
      ],
      "text/plain": [
       "<IPython.core.display.HTML object>"
      ]
     },
     "metadata": {},
     "output_type": "display_data"
    },
    {
     "name": "stdout",
     "output_type": "stream",
     "text": [
      "Result for WrappedTrainable:\n",
      "  date: 2020-03-24_17-01-23\n",
      "  done: false\n",
      "  experiment_id: 48a4678dee104a0aaee9bd1544377e32\n",
      "  experiment_tag: 0_max_depth=4,max_features=0.5214,n_estimators=344\n",
      "  hostname: 00b88c234adf\n",
      "  infer_time: 0.0614\n",
      "  is_bad: false\n",
      "  iterations_since_restore: 34\n",
      "  node_ip: 172.17.0.2\n",
      "  pid: 664\n",
      "  test_accuracy: 0.735031008720398\n",
      "  time_since_restore: 298.9003231525421\n",
      "  time_this_iter_s: 8.805378437042236\n",
      "  time_total_s: 298.9003231525421\n",
      "  timestamp: 1585069283\n",
      "  timesteps_since_restore: 0\n",
      "  train_time: 8.6344\n",
      "  training_iteration: 34\n",
      "  trial_id: 627212e2\n",
      "  \n"
     ]
    },
    {
     "data": {
      "text/html": [
       "== Status ==<br>Memory usage on this node: 12.5/45.8 GiB<br>PopulationBasedTraining: 0 checkpoints, 0 perturbs<br>Resources requested: 6/12 CPUs, 1/2 GPUs, 0.0/23.14 GiB heap, 0.0/7.96 GiB objects<br>Result logdir: /home/hyperopt/RayTune/aws-sagemaker-gtc-2020/raytune/.results/2020-03-24_16-56-19__2020-03-24_16-56-19__<br>Number of trials: 1 (1 RUNNING)<br><table>\n",
       "<thead>\n",
       "<tr><th>Trial name      </th><th>status  </th><th>loc           </th><th style=\"text-align: right;\">  n_estimators</th><th style=\"text-align: right;\">  max_features</th><th style=\"text-align: right;\">  max_depth</th><th style=\"text-align: right;\">  total time (s)</th><th style=\"text-align: right;\">  iter</th></tr>\n",
       "</thead>\n",
       "<tbody>\n",
       "<tr><td>WrappedTrainable</td><td>RUNNING </td><td>172.17.0.2:664</td><td style=\"text-align: right;\">           344</td><td style=\"text-align: right;\">      0.521398</td><td style=\"text-align: right;\">          4</td><td style=\"text-align: right;\">           298.9</td><td style=\"text-align: right;\">    34</td></tr>\n",
       "</tbody>\n",
       "</table><br><br>"
      ],
      "text/plain": [
       "<IPython.core.display.HTML object>"
      ]
     },
     "metadata": {},
     "output_type": "display_data"
    },
    {
     "name": "stdout",
     "output_type": "stream",
     "text": [
      "\u001b[2m\u001b[36m(pid=664)\u001b[0m INFO:BaseTrainTransformer:test_accuracy: 0.735031008720398\n",
      "Result for WrappedTrainable:\n",
      "  date: 2020-03-24_17-01-31\n",
      "  done: false\n",
      "  experiment_id: 48a4678dee104a0aaee9bd1544377e32\n",
      "  experiment_tag: 0_max_depth=4,max_features=0.5214,n_estimators=344\n",
      "  hostname: 00b88c234adf\n",
      "  infer_time: 0.0603\n",
      "  is_bad: false\n",
      "  iterations_since_restore: 35\n",
      "  node_ip: 172.17.0.2\n",
      "  pid: 664\n",
      "  test_accuracy: 0.7359179854393005\n",
      "  time_since_restore: 307.6932089328766\n",
      "  time_this_iter_s: 8.792885780334473\n",
      "  time_total_s: 307.6932089328766\n",
      "  timestamp: 1585069291\n",
      "  timesteps_since_restore: 0\n",
      "  train_time: 8.6241\n",
      "  training_iteration: 35\n",
      "  trial_id: 627212e2\n",
      "  \n"
     ]
    },
    {
     "data": {
      "text/html": [
       "== Status ==<br>Memory usage on this node: 12.5/45.8 GiB<br>PopulationBasedTraining: 0 checkpoints, 0 perturbs<br>Resources requested: 6/12 CPUs, 1/2 GPUs, 0.0/23.14 GiB heap, 0.0/7.96 GiB objects<br>Result logdir: /home/hyperopt/RayTune/aws-sagemaker-gtc-2020/raytune/.results/2020-03-24_16-56-19__2020-03-24_16-56-19__<br>Number of trials: 1 (1 RUNNING)<br><table>\n",
       "<thead>\n",
       "<tr><th>Trial name      </th><th>status  </th><th>loc           </th><th style=\"text-align: right;\">  n_estimators</th><th style=\"text-align: right;\">  max_features</th><th style=\"text-align: right;\">  max_depth</th><th style=\"text-align: right;\">  total time (s)</th><th style=\"text-align: right;\">  iter</th></tr>\n",
       "</thead>\n",
       "<tbody>\n",
       "<tr><td>WrappedTrainable</td><td>RUNNING </td><td>172.17.0.2:664</td><td style=\"text-align: right;\">           344</td><td style=\"text-align: right;\">      0.521398</td><td style=\"text-align: right;\">          4</td><td style=\"text-align: right;\">         307.693</td><td style=\"text-align: right;\">    35</td></tr>\n",
       "</tbody>\n",
       "</table><br><br>"
      ],
      "text/plain": [
       "<IPython.core.display.HTML object>"
      ]
     },
     "metadata": {},
     "output_type": "display_data"
    },
    {
     "name": "stdout",
     "output_type": "stream",
     "text": [
      "\u001b[2m\u001b[36m(pid=664)\u001b[0m INFO:BaseTrainTransformer:test_accuracy: 0.7359179854393005\n",
      "Result for WrappedTrainable:\n",
      "  date: 2020-03-24_17-01-40\n",
      "  done: false\n",
      "  experiment_id: 48a4678dee104a0aaee9bd1544377e32\n",
      "  experiment_tag: 0_max_depth=4,max_features=0.5214,n_estimators=344\n",
      "  hostname: 00b88c234adf\n",
      "  infer_time: 0.0609\n",
      "  is_bad: false\n",
      "  iterations_since_restore: 36\n",
      "  node_ip: 172.17.0.2\n",
      "  pid: 664\n",
      "  test_accuracy: 0.7347754836082458\n",
      "  time_since_restore: 316.49847507476807\n",
      "  time_this_iter_s: 8.80526614189148\n",
      "  time_total_s: 316.49847507476807\n",
      "  timestamp: 1585069300\n",
      "  timesteps_since_restore: 0\n",
      "  train_time: 8.6335\n",
      "  training_iteration: 36\n",
      "  trial_id: 627212e2\n",
      "  \n"
     ]
    },
    {
     "data": {
      "text/html": [
       "== Status ==<br>Memory usage on this node: 12.5/45.8 GiB<br>PopulationBasedTraining: 0 checkpoints, 0 perturbs<br>Resources requested: 6/12 CPUs, 1/2 GPUs, 0.0/23.14 GiB heap, 0.0/7.96 GiB objects<br>Result logdir: /home/hyperopt/RayTune/aws-sagemaker-gtc-2020/raytune/.results/2020-03-24_16-56-19__2020-03-24_16-56-19__<br>Number of trials: 1 (1 RUNNING)<br><table>\n",
       "<thead>\n",
       "<tr><th>Trial name      </th><th>status  </th><th>loc           </th><th style=\"text-align: right;\">  n_estimators</th><th style=\"text-align: right;\">  max_features</th><th style=\"text-align: right;\">  max_depth</th><th style=\"text-align: right;\">  total time (s)</th><th style=\"text-align: right;\">  iter</th></tr>\n",
       "</thead>\n",
       "<tbody>\n",
       "<tr><td>WrappedTrainable</td><td>RUNNING </td><td>172.17.0.2:664</td><td style=\"text-align: right;\">           344</td><td style=\"text-align: right;\">      0.521398</td><td style=\"text-align: right;\">          4</td><td style=\"text-align: right;\">         316.498</td><td style=\"text-align: right;\">    36</td></tr>\n",
       "</tbody>\n",
       "</table><br><br>"
      ],
      "text/plain": [
       "<IPython.core.display.HTML object>"
      ]
     },
     "metadata": {},
     "output_type": "display_data"
    },
    {
     "name": "stdout",
     "output_type": "stream",
     "text": [
      "\u001b[2m\u001b[36m(pid=664)\u001b[0m INFO:BaseTrainTransformer:test_accuracy: 0.7347754836082458\n",
      "Result for WrappedTrainable:\n",
      "  date: 2020-03-24_17-01-49\n",
      "  done: false\n",
      "  experiment_id: 48a4678dee104a0aaee9bd1544377e32\n",
      "  experiment_tag: 0_max_depth=4,max_features=0.5214,n_estimators=344\n",
      "  hostname: 00b88c234adf\n",
      "  infer_time: 0.0614\n",
      "  is_bad: false\n",
      "  iterations_since_restore: 37\n",
      "  node_ip: 172.17.0.2\n",
      "  pid: 664\n",
      "  test_accuracy: 0.7353379726409912\n",
      "  time_since_restore: 325.2938697338104\n",
      "  time_this_iter_s: 8.795394659042358\n",
      "  time_total_s: 325.2938697338104\n",
      "  timestamp: 1585069309\n",
      "  timesteps_since_restore: 0\n",
      "  train_time: 8.6238\n",
      "  training_iteration: 37\n",
      "  trial_id: 627212e2\n",
      "  \n"
     ]
    },
    {
     "data": {
      "text/html": [
       "== Status ==<br>Memory usage on this node: 12.5/45.8 GiB<br>PopulationBasedTraining: 0 checkpoints, 0 perturbs<br>Resources requested: 6/12 CPUs, 1/2 GPUs, 0.0/23.14 GiB heap, 0.0/7.96 GiB objects<br>Result logdir: /home/hyperopt/RayTune/aws-sagemaker-gtc-2020/raytune/.results/2020-03-24_16-56-19__2020-03-24_16-56-19__<br>Number of trials: 1 (1 RUNNING)<br><table>\n",
       "<thead>\n",
       "<tr><th>Trial name      </th><th>status  </th><th>loc           </th><th style=\"text-align: right;\">  n_estimators</th><th style=\"text-align: right;\">  max_features</th><th style=\"text-align: right;\">  max_depth</th><th style=\"text-align: right;\">  total time (s)</th><th style=\"text-align: right;\">  iter</th></tr>\n",
       "</thead>\n",
       "<tbody>\n",
       "<tr><td>WrappedTrainable</td><td>RUNNING </td><td>172.17.0.2:664</td><td style=\"text-align: right;\">           344</td><td style=\"text-align: right;\">      0.521398</td><td style=\"text-align: right;\">          4</td><td style=\"text-align: right;\">         325.294</td><td style=\"text-align: right;\">    37</td></tr>\n",
       "</tbody>\n",
       "</table><br><br>"
      ],
      "text/plain": [
       "<IPython.core.display.HTML object>"
      ]
     },
     "metadata": {},
     "output_type": "display_data"
    },
    {
     "name": "stdout",
     "output_type": "stream",
     "text": [
      "\u001b[2m\u001b[36m(pid=664)\u001b[0m INFO:BaseTrainTransformer:test_accuracy: 0.7353379726409912\n",
      "Result for WrappedTrainable:\n",
      "  date: 2020-03-24_17-01-58\n",
      "  done: false\n",
      "  experiment_id: 48a4678dee104a0aaee9bd1544377e32\n",
      "  experiment_tag: 0_max_depth=4,max_features=0.5214,n_estimators=344\n",
      "  hostname: 00b88c234adf\n",
      "  infer_time: 0.0606\n",
      "  is_bad: false\n",
      "  iterations_since_restore: 38\n",
      "  node_ip: 172.17.0.2\n",
      "  pid: 664\n",
      "  test_accuracy: 0.7351800203323364\n",
      "  time_since_restore: 334.0952389240265\n",
      "  time_this_iter_s: 8.801369190216064\n",
      "  time_total_s: 334.0952389240265\n",
      "  timestamp: 1585069318\n",
      "  timesteps_since_restore: 0\n",
      "  train_time: 8.6309\n",
      "  training_iteration: 38\n",
      "  trial_id: 627212e2\n",
      "  \n"
     ]
    },
    {
     "data": {
      "text/html": [
       "== Status ==<br>Memory usage on this node: 12.5/45.8 GiB<br>PopulationBasedTraining: 0 checkpoints, 0 perturbs<br>Resources requested: 6/12 CPUs, 1/2 GPUs, 0.0/23.14 GiB heap, 0.0/7.96 GiB objects<br>Result logdir: /home/hyperopt/RayTune/aws-sagemaker-gtc-2020/raytune/.results/2020-03-24_16-56-19__2020-03-24_16-56-19__<br>Number of trials: 1 (1 RUNNING)<br><table>\n",
       "<thead>\n",
       "<tr><th>Trial name      </th><th>status  </th><th>loc           </th><th style=\"text-align: right;\">  n_estimators</th><th style=\"text-align: right;\">  max_features</th><th style=\"text-align: right;\">  max_depth</th><th style=\"text-align: right;\">  total time (s)</th><th style=\"text-align: right;\">  iter</th></tr>\n",
       "</thead>\n",
       "<tbody>\n",
       "<tr><td>WrappedTrainable</td><td>RUNNING </td><td>172.17.0.2:664</td><td style=\"text-align: right;\">           344</td><td style=\"text-align: right;\">      0.521398</td><td style=\"text-align: right;\">          4</td><td style=\"text-align: right;\">         334.095</td><td style=\"text-align: right;\">    38</td></tr>\n",
       "</tbody>\n",
       "</table><br><br>"
      ],
      "text/plain": [
       "<IPython.core.display.HTML object>"
      ]
     },
     "metadata": {},
     "output_type": "display_data"
    },
    {
     "name": "stdout",
     "output_type": "stream",
     "text": [
      "\u001b[2m\u001b[36m(pid=664)\u001b[0m INFO:BaseTrainTransformer:test_accuracy: 0.7351800203323364\n",
      "Result for WrappedTrainable:\n",
      "  date: 2020-03-24_17-02-07\n",
      "  done: false\n",
      "  experiment_id: 48a4678dee104a0aaee9bd1544377e32\n",
      "  experiment_tag: 0_max_depth=4,max_features=0.5214,n_estimators=344\n",
      "  hostname: 00b88c234adf\n",
      "  infer_time: 0.0615\n",
      "  is_bad: false\n",
      "  iterations_since_restore: 39\n",
      "  node_ip: 172.17.0.2\n",
      "  pid: 664\n",
      "  test_accuracy: 0.7353140115737915\n",
      "  time_since_restore: 342.9018323421478\n",
      "  time_this_iter_s: 8.806593418121338\n",
      "  time_total_s: 342.9018323421478\n",
      "  timestamp: 1585069327\n",
      "  timesteps_since_restore: 0\n",
      "  train_time: 8.6369\n",
      "  training_iteration: 39\n",
      "  trial_id: 627212e2\n",
      "  \n",
      "\u001b[2m\u001b[36m(pid=664)\u001b[0m INFO:BaseTrainTransformer:test_accuracy: 0.7353140115737915\n"
     ]
    },
    {
     "data": {
      "text/html": [
       "== Status ==<br>Memory usage on this node: 12.5/45.8 GiB<br>PopulationBasedTraining: 0 checkpoints, 0 perturbs<br>Resources requested: 6/12 CPUs, 1/2 GPUs, 0.0/23.14 GiB heap, 0.0/7.96 GiB objects<br>Result logdir: /home/hyperopt/RayTune/aws-sagemaker-gtc-2020/raytune/.results/2020-03-24_16-56-19__2020-03-24_16-56-19__<br>Number of trials: 1 (1 RUNNING)<br><table>\n",
       "<thead>\n",
       "<tr><th>Trial name      </th><th>status  </th><th>loc           </th><th style=\"text-align: right;\">  n_estimators</th><th style=\"text-align: right;\">  max_features</th><th style=\"text-align: right;\">  max_depth</th><th style=\"text-align: right;\">  total time (s)</th><th style=\"text-align: right;\">  iter</th></tr>\n",
       "</thead>\n",
       "<tbody>\n",
       "<tr><td>WrappedTrainable</td><td>RUNNING </td><td>172.17.0.2:664</td><td style=\"text-align: right;\">           344</td><td style=\"text-align: right;\">      0.521398</td><td style=\"text-align: right;\">          4</td><td style=\"text-align: right;\">         342.902</td><td style=\"text-align: right;\">    39</td></tr>\n",
       "</tbody>\n",
       "</table><br><br>"
      ],
      "text/plain": [
       "<IPython.core.display.HTML object>"
      ]
     },
     "metadata": {},
     "output_type": "display_data"
    },
    {
     "name": "stdout",
     "output_type": "stream",
     "text": [
      "Result for WrappedTrainable:\n",
      "  date: 2020-03-24_17-02-15\n",
      "  done: false\n",
      "  experiment_id: 48a4678dee104a0aaee9bd1544377e32\n",
      "  experiment_tag: 0_max_depth=4,max_features=0.5214,n_estimators=344\n",
      "  hostname: 00b88c234adf\n",
      "  infer_time: 0.0607\n",
      "  is_bad: false\n",
      "  iterations_since_restore: 40\n",
      "  node_ip: 172.17.0.2\n",
      "  pid: 664\n",
      "  test_accuracy: 0.7353065013885498\n",
      "  time_since_restore: 351.70631647109985\n",
      "  time_this_iter_s: 8.804484128952026\n",
      "  time_total_s: 351.70631647109985\n",
      "  timestamp: 1585069335\n",
      "  timesteps_since_restore: 0\n",
      "  train_time: 8.629\n",
      "  training_iteration: 40\n",
      "  trial_id: 627212e2\n",
      "  \n"
     ]
    },
    {
     "data": {
      "text/html": [
       "== Status ==<br>Memory usage on this node: 12.5/45.8 GiB<br>PopulationBasedTraining: 0 checkpoints, 0 perturbs<br>Resources requested: 6/12 CPUs, 1/2 GPUs, 0.0/23.14 GiB heap, 0.0/7.96 GiB objects<br>Result logdir: /home/hyperopt/RayTune/aws-sagemaker-gtc-2020/raytune/.results/2020-03-24_16-56-19__2020-03-24_16-56-19__<br>Number of trials: 1 (1 RUNNING)<br><table>\n",
       "<thead>\n",
       "<tr><th>Trial name      </th><th>status  </th><th>loc           </th><th style=\"text-align: right;\">  n_estimators</th><th style=\"text-align: right;\">  max_features</th><th style=\"text-align: right;\">  max_depth</th><th style=\"text-align: right;\">  total time (s)</th><th style=\"text-align: right;\">  iter</th></tr>\n",
       "</thead>\n",
       "<tbody>\n",
       "<tr><td>WrappedTrainable</td><td>RUNNING </td><td>172.17.0.2:664</td><td style=\"text-align: right;\">           344</td><td style=\"text-align: right;\">      0.521398</td><td style=\"text-align: right;\">          4</td><td style=\"text-align: right;\">         351.706</td><td style=\"text-align: right;\">    40</td></tr>\n",
       "</tbody>\n",
       "</table><br><br>"
      ],
      "text/plain": [
       "<IPython.core.display.HTML object>"
      ]
     },
     "metadata": {},
     "output_type": "display_data"
    },
    {
     "name": "stdout",
     "output_type": "stream",
     "text": [
      "\u001b[2m\u001b[36m(pid=664)\u001b[0m INFO:BaseTrainTransformer:test_accuracy: 0.7353065013885498\n",
      "Result for WrappedTrainable:\n",
      "  date: 2020-03-24_17-02-24\n",
      "  done: false\n",
      "  experiment_id: 48a4678dee104a0aaee9bd1544377e32\n",
      "  experiment_tag: 0_max_depth=4,max_features=0.5214,n_estimators=344\n",
      "  hostname: 00b88c234adf\n",
      "  infer_time: 0.0626\n",
      "  is_bad: false\n",
      "  iterations_since_restore: 41\n",
      "  node_ip: 172.17.0.2\n",
      "  pid: 664\n",
      "  test_accuracy: 0.7354620099067688\n",
      "  time_since_restore: 360.50968861579895\n",
      "  time_this_iter_s: 8.803372144699097\n",
      "  time_total_s: 360.50968861579895\n",
      "  timestamp: 1585069344\n",
      "  timesteps_since_restore: 0\n",
      "  train_time: 8.6265\n",
      "  training_iteration: 41\n",
      "  trial_id: 627212e2\n",
      "  \n",
      "\u001b[2m\u001b[36m(pid=664)\u001b[0m INFO:BaseTrainTransformer:test_accuracy: 0.7354620099067688\n"
     ]
    },
    {
     "data": {
      "text/html": [
       "== Status ==<br>Memory usage on this node: 12.5/45.8 GiB<br>PopulationBasedTraining: 0 checkpoints, 0 perturbs<br>Resources requested: 6/12 CPUs, 1/2 GPUs, 0.0/23.14 GiB heap, 0.0/7.96 GiB objects<br>Result logdir: /home/hyperopt/RayTune/aws-sagemaker-gtc-2020/raytune/.results/2020-03-24_16-56-19__2020-03-24_16-56-19__<br>Number of trials: 1 (1 RUNNING)<br><table>\n",
       "<thead>\n",
       "<tr><th>Trial name      </th><th>status  </th><th>loc           </th><th style=\"text-align: right;\">  n_estimators</th><th style=\"text-align: right;\">  max_features</th><th style=\"text-align: right;\">  max_depth</th><th style=\"text-align: right;\">  total time (s)</th><th style=\"text-align: right;\">  iter</th></tr>\n",
       "</thead>\n",
       "<tbody>\n",
       "<tr><td>WrappedTrainable</td><td>RUNNING </td><td>172.17.0.2:664</td><td style=\"text-align: right;\">           344</td><td style=\"text-align: right;\">      0.521398</td><td style=\"text-align: right;\">          4</td><td style=\"text-align: right;\">          360.51</td><td style=\"text-align: right;\">    41</td></tr>\n",
       "</tbody>\n",
       "</table><br><br>"
      ],
      "text/plain": [
       "<IPython.core.display.HTML object>"
      ]
     },
     "metadata": {},
     "output_type": "display_data"
    },
    {
     "name": "stdout",
     "output_type": "stream",
     "text": [
      "Result for WrappedTrainable:\n",
      "  date: 2020-03-24_17-02-33\n",
      "  done: false\n",
      "  experiment_id: 48a4678dee104a0aaee9bd1544377e32\n",
      "  experiment_tag: 0_max_depth=4,max_features=0.5214,n_estimators=344\n",
      "  hostname: 00b88c234adf\n",
      "  infer_time: 0.061\n",
      "  is_bad: false\n",
      "  iterations_since_restore: 42\n",
      "  node_ip: 172.17.0.2\n",
      "  pid: 664\n",
      "  test_accuracy: 0.7354614734649658\n",
      "  time_since_restore: 369.3177225589752\n",
      "  time_this_iter_s: 8.80803394317627\n",
      "  time_total_s: 369.3177225589752\n",
      "  timestamp: 1585069353\n",
      "  timesteps_since_restore: 0\n",
      "  train_time: 8.6365\n",
      "  training_iteration: 42\n",
      "  trial_id: 627212e2\n",
      "  \n"
     ]
    },
    {
     "data": {
      "text/html": [
       "== Status ==<br>Memory usage on this node: 12.5/45.8 GiB<br>PopulationBasedTraining: 0 checkpoints, 0 perturbs<br>Resources requested: 6/12 CPUs, 1/2 GPUs, 0.0/23.14 GiB heap, 0.0/7.96 GiB objects<br>Result logdir: /home/hyperopt/RayTune/aws-sagemaker-gtc-2020/raytune/.results/2020-03-24_16-56-19__2020-03-24_16-56-19__<br>Number of trials: 1 (1 RUNNING)<br><table>\n",
       "<thead>\n",
       "<tr><th>Trial name      </th><th>status  </th><th>loc           </th><th style=\"text-align: right;\">  n_estimators</th><th style=\"text-align: right;\">  max_features</th><th style=\"text-align: right;\">  max_depth</th><th style=\"text-align: right;\">  total time (s)</th><th style=\"text-align: right;\">  iter</th></tr>\n",
       "</thead>\n",
       "<tbody>\n",
       "<tr><td>WrappedTrainable</td><td>RUNNING </td><td>172.17.0.2:664</td><td style=\"text-align: right;\">           344</td><td style=\"text-align: right;\">      0.521398</td><td style=\"text-align: right;\">          4</td><td style=\"text-align: right;\">         369.318</td><td style=\"text-align: right;\">    42</td></tr>\n",
       "</tbody>\n",
       "</table><br><br>"
      ],
      "text/plain": [
       "<IPython.core.display.HTML object>"
      ]
     },
     "metadata": {},
     "output_type": "display_data"
    },
    {
     "name": "stdout",
     "output_type": "stream",
     "text": [
      "\u001b[2m\u001b[36m(pid=664)\u001b[0m INFO:BaseTrainTransformer:test_accuracy: 0.7354614734649658\n",
      "Result for WrappedTrainable:\n",
      "  date: 2020-03-24_17-02-42\n",
      "  done: false\n",
      "  experiment_id: 48a4678dee104a0aaee9bd1544377e32\n",
      "  experiment_tag: 0_max_depth=4,max_features=0.5214,n_estimators=344\n",
      "  hostname: 00b88c234adf\n",
      "  infer_time: 0.0614\n",
      "  is_bad: false\n",
      "  iterations_since_restore: 43\n",
      "  node_ip: 172.17.0.2\n",
      "  pid: 664\n",
      "  test_accuracy: 0.7350944876670837\n",
      "  time_since_restore: 378.1216540336609\n",
      "  time_this_iter_s: 8.803931474685669\n",
      "  time_total_s: 378.1216540336609\n",
      "  timestamp: 1585069362\n",
      "  timesteps_since_restore: 0\n",
      "  train_time: 8.6322\n",
      "  training_iteration: 43\n",
      "  trial_id: 627212e2\n",
      "  \n"
     ]
    },
    {
     "data": {
      "text/html": [
       "== Status ==<br>Memory usage on this node: 12.5/45.8 GiB<br>PopulationBasedTraining: 0 checkpoints, 0 perturbs<br>Resources requested: 6/12 CPUs, 1/2 GPUs, 0.0/23.14 GiB heap, 0.0/7.96 GiB objects<br>Result logdir: /home/hyperopt/RayTune/aws-sagemaker-gtc-2020/raytune/.results/2020-03-24_16-56-19__2020-03-24_16-56-19__<br>Number of trials: 1 (1 RUNNING)<br><table>\n",
       "<thead>\n",
       "<tr><th>Trial name      </th><th>status  </th><th>loc           </th><th style=\"text-align: right;\">  n_estimators</th><th style=\"text-align: right;\">  max_features</th><th style=\"text-align: right;\">  max_depth</th><th style=\"text-align: right;\">  total time (s)</th><th style=\"text-align: right;\">  iter</th></tr>\n",
       "</thead>\n",
       "<tbody>\n",
       "<tr><td>WrappedTrainable</td><td>RUNNING </td><td>172.17.0.2:664</td><td style=\"text-align: right;\">           344</td><td style=\"text-align: right;\">      0.521398</td><td style=\"text-align: right;\">          4</td><td style=\"text-align: right;\">         378.122</td><td style=\"text-align: right;\">    43</td></tr>\n",
       "</tbody>\n",
       "</table><br><br>"
      ],
      "text/plain": [
       "<IPython.core.display.HTML object>"
      ]
     },
     "metadata": {},
     "output_type": "display_data"
    },
    {
     "name": "stdout",
     "output_type": "stream",
     "text": [
      "\u001b[2m\u001b[36m(pid=664)\u001b[0m INFO:BaseTrainTransformer:test_accuracy: 0.7350944876670837\n",
      "Result for WrappedTrainable:\n",
      "  date: 2020-03-24_17-02-51\n",
      "  done: false\n",
      "  experiment_id: 48a4678dee104a0aaee9bd1544377e32\n",
      "  experiment_tag: 0_max_depth=4,max_features=0.5214,n_estimators=344\n",
      "  hostname: 00b88c234adf\n",
      "  infer_time: 0.0615\n",
      "  is_bad: false\n",
      "  iterations_since_restore: 44\n",
      "  node_ip: 172.17.0.2\n",
      "  pid: 664\n",
      "  test_accuracy: 0.7349675297737122\n",
      "  time_since_restore: 386.9230990409851\n",
      "  time_this_iter_s: 8.801445007324219\n",
      "  time_total_s: 386.9230990409851\n",
      "  timestamp: 1585069371\n",
      "  timesteps_since_restore: 0\n",
      "  train_time: 8.6293\n",
      "  training_iteration: 44\n",
      "  trial_id: 627212e2\n",
      "  \n"
     ]
    },
    {
     "data": {
      "text/html": [
       "== Status ==<br>Memory usage on this node: 12.5/45.8 GiB<br>PopulationBasedTraining: 0 checkpoints, 0 perturbs<br>Resources requested: 6/12 CPUs, 1/2 GPUs, 0.0/23.14 GiB heap, 0.0/7.96 GiB objects<br>Result logdir: /home/hyperopt/RayTune/aws-sagemaker-gtc-2020/raytune/.results/2020-03-24_16-56-19__2020-03-24_16-56-19__<br>Number of trials: 1 (1 RUNNING)<br><table>\n",
       "<thead>\n",
       "<tr><th>Trial name      </th><th>status  </th><th>loc           </th><th style=\"text-align: right;\">  n_estimators</th><th style=\"text-align: right;\">  max_features</th><th style=\"text-align: right;\">  max_depth</th><th style=\"text-align: right;\">  total time (s)</th><th style=\"text-align: right;\">  iter</th></tr>\n",
       "</thead>\n",
       "<tbody>\n",
       "<tr><td>WrappedTrainable</td><td>RUNNING </td><td>172.17.0.2:664</td><td style=\"text-align: right;\">           344</td><td style=\"text-align: right;\">      0.521398</td><td style=\"text-align: right;\">          4</td><td style=\"text-align: right;\">         386.923</td><td style=\"text-align: right;\">    44</td></tr>\n",
       "</tbody>\n",
       "</table><br><br>"
      ],
      "text/plain": [
       "<IPython.core.display.HTML object>"
      ]
     },
     "metadata": {},
     "output_type": "display_data"
    },
    {
     "name": "stdout",
     "output_type": "stream",
     "text": [
      "\u001b[2m\u001b[36m(pid=664)\u001b[0m INFO:BaseTrainTransformer:test_accuracy: 0.7349675297737122\n",
      "Result for WrappedTrainable:\n",
      "  date: 2020-03-24_17-03-00\n",
      "  done: false\n",
      "  experiment_id: 48a4678dee104a0aaee9bd1544377e32\n",
      "  experiment_tag: 0_max_depth=4,max_features=0.5214,n_estimators=344\n",
      "  hostname: 00b88c234adf\n",
      "  infer_time: 0.0625\n",
      "  is_bad: false\n",
      "  iterations_since_restore: 45\n",
      "  node_ip: 172.17.0.2\n",
      "  pid: 664\n",
      "  test_accuracy: 0.7358065247535706\n",
      "  time_since_restore: 395.72494888305664\n",
      "  time_this_iter_s: 8.801849842071533\n",
      "  time_total_s: 395.72494888305664\n",
      "  timestamp: 1585069380\n",
      "  timesteps_since_restore: 0\n",
      "  train_time: 8.6297\n",
      "  training_iteration: 45\n",
      "  trial_id: 627212e2\n",
      "  \n"
     ]
    },
    {
     "data": {
      "text/html": [
       "== Status ==<br>Memory usage on this node: 12.5/45.8 GiB<br>PopulationBasedTraining: 0 checkpoints, 0 perturbs<br>Resources requested: 6/12 CPUs, 1/2 GPUs, 0.0/23.14 GiB heap, 0.0/7.96 GiB objects<br>Result logdir: /home/hyperopt/RayTune/aws-sagemaker-gtc-2020/raytune/.results/2020-03-24_16-56-19__2020-03-24_16-56-19__<br>Number of trials: 1 (1 RUNNING)<br><table>\n",
       "<thead>\n",
       "<tr><th>Trial name      </th><th>status  </th><th>loc           </th><th style=\"text-align: right;\">  n_estimators</th><th style=\"text-align: right;\">  max_features</th><th style=\"text-align: right;\">  max_depth</th><th style=\"text-align: right;\">  total time (s)</th><th style=\"text-align: right;\">  iter</th></tr>\n",
       "</thead>\n",
       "<tbody>\n",
       "<tr><td>WrappedTrainable</td><td>RUNNING </td><td>172.17.0.2:664</td><td style=\"text-align: right;\">           344</td><td style=\"text-align: right;\">      0.521398</td><td style=\"text-align: right;\">          4</td><td style=\"text-align: right;\">         395.725</td><td style=\"text-align: right;\">    45</td></tr>\n",
       "</tbody>\n",
       "</table><br><br>"
      ],
      "text/plain": [
       "<IPython.core.display.HTML object>"
      ]
     },
     "metadata": {},
     "output_type": "display_data"
    },
    {
     "name": "stdout",
     "output_type": "stream",
     "text": [
      "\u001b[2m\u001b[36m(pid=664)\u001b[0m INFO:BaseTrainTransformer:test_accuracy: 0.7358065247535706\n",
      "Result for WrappedTrainable:\n",
      "  date: 2020-03-24_17-03-08\n",
      "  done: false\n",
      "  experiment_id: 48a4678dee104a0aaee9bd1544377e32\n",
      "  experiment_tag: 0_max_depth=4,max_features=0.5214,n_estimators=344\n",
      "  hostname: 00b88c234adf\n",
      "  infer_time: 0.061\n",
      "  is_bad: false\n",
      "  iterations_since_restore: 46\n",
      "  node_ip: 172.17.0.2\n",
      "  pid: 664\n",
      "  test_accuracy: 0.7352635264396667\n",
      "  time_since_restore: 404.52513790130615\n",
      "  time_this_iter_s: 8.800189018249512\n",
      "  time_total_s: 404.52513790130615\n",
      "  timestamp: 1585069388\n",
      "  timesteps_since_restore: 0\n",
      "  train_time: 8.6284\n",
      "  training_iteration: 46\n",
      "  trial_id: 627212e2\n",
      "  \n"
     ]
    },
    {
     "data": {
      "text/html": [
       "== Status ==<br>Memory usage on this node: 12.5/45.8 GiB<br>PopulationBasedTraining: 0 checkpoints, 0 perturbs<br>Resources requested: 6/12 CPUs, 1/2 GPUs, 0.0/23.14 GiB heap, 0.0/7.96 GiB objects<br>Result logdir: /home/hyperopt/RayTune/aws-sagemaker-gtc-2020/raytune/.results/2020-03-24_16-56-19__2020-03-24_16-56-19__<br>Number of trials: 1 (1 RUNNING)<br><table>\n",
       "<thead>\n",
       "<tr><th>Trial name      </th><th>status  </th><th>loc           </th><th style=\"text-align: right;\">  n_estimators</th><th style=\"text-align: right;\">  max_features</th><th style=\"text-align: right;\">  max_depth</th><th style=\"text-align: right;\">  total time (s)</th><th style=\"text-align: right;\">  iter</th></tr>\n",
       "</thead>\n",
       "<tbody>\n",
       "<tr><td>WrappedTrainable</td><td>RUNNING </td><td>172.17.0.2:664</td><td style=\"text-align: right;\">           344</td><td style=\"text-align: right;\">      0.521398</td><td style=\"text-align: right;\">          4</td><td style=\"text-align: right;\">         404.525</td><td style=\"text-align: right;\">    46</td></tr>\n",
       "</tbody>\n",
       "</table><br><br>"
      ],
      "text/plain": [
       "<IPython.core.display.HTML object>"
      ]
     },
     "metadata": {},
     "output_type": "display_data"
    },
    {
     "name": "stdout",
     "output_type": "stream",
     "text": [
      "\u001b[2m\u001b[36m(pid=664)\u001b[0m INFO:BaseTrainTransformer:test_accuracy: 0.7352635264396667\n",
      "Result for WrappedTrainable:\n",
      "  date: 2020-03-24_17-03-17\n",
      "  done: false\n",
      "  experiment_id: 48a4678dee104a0aaee9bd1544377e32\n",
      "  experiment_tag: 0_max_depth=4,max_features=0.5214,n_estimators=344\n",
      "  hostname: 00b88c234adf\n",
      "  infer_time: 0.0608\n",
      "  is_bad: false\n",
      "  iterations_since_restore: 47\n",
      "  node_ip: 172.17.0.2\n",
      "  pid: 664\n",
      "  test_accuracy: 0.7353854775428772\n",
      "  time_since_restore: 413.3261241912842\n",
      "  time_this_iter_s: 8.800986289978027\n",
      "  time_total_s: 413.3261241912842\n",
      "  timestamp: 1585069397\n",
      "  timesteps_since_restore: 0\n",
      "  train_time: 8.6321\n",
      "  training_iteration: 47\n",
      "  trial_id: 627212e2\n",
      "  \n"
     ]
    },
    {
     "data": {
      "text/html": [
       "== Status ==<br>Memory usage on this node: 12.5/45.8 GiB<br>PopulationBasedTraining: 0 checkpoints, 0 perturbs<br>Resources requested: 6/12 CPUs, 1/2 GPUs, 0.0/23.14 GiB heap, 0.0/7.96 GiB objects<br>Result logdir: /home/hyperopt/RayTune/aws-sagemaker-gtc-2020/raytune/.results/2020-03-24_16-56-19__2020-03-24_16-56-19__<br>Number of trials: 1 (1 RUNNING)<br><table>\n",
       "<thead>\n",
       "<tr><th>Trial name      </th><th>status  </th><th>loc           </th><th style=\"text-align: right;\">  n_estimators</th><th style=\"text-align: right;\">  max_features</th><th style=\"text-align: right;\">  max_depth</th><th style=\"text-align: right;\">  total time (s)</th><th style=\"text-align: right;\">  iter</th></tr>\n",
       "</thead>\n",
       "<tbody>\n",
       "<tr><td>WrappedTrainable</td><td>RUNNING </td><td>172.17.0.2:664</td><td style=\"text-align: right;\">           344</td><td style=\"text-align: right;\">      0.521398</td><td style=\"text-align: right;\">          4</td><td style=\"text-align: right;\">         413.326</td><td style=\"text-align: right;\">    47</td></tr>\n",
       "</tbody>\n",
       "</table><br><br>"
      ],
      "text/plain": [
       "<IPython.core.display.HTML object>"
      ]
     },
     "metadata": {},
     "output_type": "display_data"
    },
    {
     "name": "stdout",
     "output_type": "stream",
     "text": [
      "\u001b[2m\u001b[36m(pid=664)\u001b[0m INFO:BaseTrainTransformer:test_accuracy: 0.7353854775428772\n",
      "Result for WrappedTrainable:\n",
      "  date: 2020-03-24_17-03-26\n",
      "  done: false\n",
      "  experiment_id: 48a4678dee104a0aaee9bd1544377e32\n",
      "  experiment_tag: 0_max_depth=4,max_features=0.5214,n_estimators=344\n",
      "  hostname: 00b88c234adf\n",
      "  infer_time: 0.0611\n",
      "  is_bad: false\n",
      "  iterations_since_restore: 48\n",
      "  node_ip: 172.17.0.2\n",
      "  pid: 664\n",
      "  test_accuracy: 0.7353450059890747\n",
      "  time_since_restore: 422.1272518634796\n",
      "  time_this_iter_s: 8.801127672195435\n",
      "  time_total_s: 422.1272518634796\n",
      "  timestamp: 1585069406\n",
      "  timesteps_since_restore: 0\n",
      "  train_time: 8.6302\n",
      "  training_iteration: 48\n",
      "  trial_id: 627212e2\n",
      "  \n",
      "\u001b[2m\u001b[36m(pid=664)\u001b[0m INFO:BaseTrainTransformer:test_accuracy: 0.7353450059890747\n"
     ]
    },
    {
     "data": {
      "text/html": [
       "== Status ==<br>Memory usage on this node: 12.5/45.8 GiB<br>PopulationBasedTraining: 0 checkpoints, 0 perturbs<br>Resources requested: 6/12 CPUs, 1/2 GPUs, 0.0/23.14 GiB heap, 0.0/7.96 GiB objects<br>Result logdir: /home/hyperopt/RayTune/aws-sagemaker-gtc-2020/raytune/.results/2020-03-24_16-56-19__2020-03-24_16-56-19__<br>Number of trials: 1 (1 RUNNING)<br><table>\n",
       "<thead>\n",
       "<tr><th>Trial name      </th><th>status  </th><th>loc           </th><th style=\"text-align: right;\">  n_estimators</th><th style=\"text-align: right;\">  max_features</th><th style=\"text-align: right;\">  max_depth</th><th style=\"text-align: right;\">  total time (s)</th><th style=\"text-align: right;\">  iter</th></tr>\n",
       "</thead>\n",
       "<tbody>\n",
       "<tr><td>WrappedTrainable</td><td>RUNNING </td><td>172.17.0.2:664</td><td style=\"text-align: right;\">           344</td><td style=\"text-align: right;\">      0.521398</td><td style=\"text-align: right;\">          4</td><td style=\"text-align: right;\">         422.127</td><td style=\"text-align: right;\">    48</td></tr>\n",
       "</tbody>\n",
       "</table><br><br>"
      ],
      "text/plain": [
       "<IPython.core.display.HTML object>"
      ]
     },
     "metadata": {},
     "output_type": "display_data"
    },
    {
     "name": "stdout",
     "output_type": "stream",
     "text": [
      "Result for WrappedTrainable:\n",
      "  date: 2020-03-24_17-03-35\n",
      "  done: false\n",
      "  experiment_id: 48a4678dee104a0aaee9bd1544377e32\n",
      "  experiment_tag: 0_max_depth=4,max_features=0.5214,n_estimators=344\n",
      "  hostname: 00b88c234adf\n",
      "  infer_time: 0.0612\n",
      "  is_bad: false\n",
      "  iterations_since_restore: 49\n",
      "  node_ip: 172.17.0.2\n",
      "  pid: 664\n",
      "  test_accuracy: 0.7348985075950623\n",
      "  time_since_restore: 430.9289574623108\n",
      "  time_this_iter_s: 8.801705598831177\n",
      "  time_total_s: 430.9289574623108\n",
      "  timestamp: 1585069415\n",
      "  timesteps_since_restore: 0\n",
      "  train_time: 8.6272\n",
      "  training_iteration: 49\n",
      "  trial_id: 627212e2\n",
      "  \n"
     ]
    },
    {
     "data": {
      "text/html": [
       "== Status ==<br>Memory usage on this node: 12.5/45.8 GiB<br>PopulationBasedTraining: 0 checkpoints, 0 perturbs<br>Resources requested: 6/12 CPUs, 1/2 GPUs, 0.0/23.14 GiB heap, 0.0/7.96 GiB objects<br>Result logdir: /home/hyperopt/RayTune/aws-sagemaker-gtc-2020/raytune/.results/2020-03-24_16-56-19__2020-03-24_16-56-19__<br>Number of trials: 1 (1 RUNNING)<br><table>\n",
       "<thead>\n",
       "<tr><th>Trial name      </th><th>status  </th><th>loc           </th><th style=\"text-align: right;\">  n_estimators</th><th style=\"text-align: right;\">  max_features</th><th style=\"text-align: right;\">  max_depth</th><th style=\"text-align: right;\">  total time (s)</th><th style=\"text-align: right;\">  iter</th></tr>\n",
       "</thead>\n",
       "<tbody>\n",
       "<tr><td>WrappedTrainable</td><td>RUNNING </td><td>172.17.0.2:664</td><td style=\"text-align: right;\">           344</td><td style=\"text-align: right;\">      0.521398</td><td style=\"text-align: right;\">          4</td><td style=\"text-align: right;\">         430.929</td><td style=\"text-align: right;\">    49</td></tr>\n",
       "</tbody>\n",
       "</table><br><br>"
      ],
      "text/plain": [
       "<IPython.core.display.HTML object>"
      ]
     },
     "metadata": {},
     "output_type": "display_data"
    },
    {
     "name": "stdout",
     "output_type": "stream",
     "text": [
      "\u001b[2m\u001b[36m(pid=664)\u001b[0m INFO:BaseTrainTransformer:test_accuracy: 0.7348985075950623\n",
      "Result for WrappedTrainable:\n",
      "  date: 2020-03-24_17-03-44\n",
      "  done: true\n",
      "  experiment_id: 48a4678dee104a0aaee9bd1544377e32\n",
      "  experiment_tag: 0_max_depth=4,max_features=0.5214,n_estimators=344\n",
      "  hostname: 00b88c234adf\n",
      "  infer_time: 0.0609\n",
      "  is_bad: false\n",
      "  iterations_since_restore: 50\n",
      "  node_ip: 172.17.0.2\n",
      "  pid: 664\n",
      "  test_accuracy: 0.7356129884719849\n",
      "  time_since_restore: 439.72650504112244\n",
      "  time_this_iter_s: 8.797547578811646\n",
      "  time_total_s: 439.72650504112244\n",
      "  timestamp: 1585069424\n",
      "  timesteps_since_restore: 0\n",
      "  train_time: 8.6265\n",
      "  training_iteration: 50\n",
      "  trial_id: 627212e2\n",
      "  \n"
     ]
    },
    {
     "data": {
      "text/html": [
       "== Status ==<br>Memory usage on this node: 12.5/45.8 GiB<br>PopulationBasedTraining: 0 checkpoints, 0 perturbs<br>Resources requested: 6/12 CPUs, 1/2 GPUs, 0.0/23.14 GiB heap, 0.0/7.96 GiB objects<br>Result logdir: /home/hyperopt/RayTune/aws-sagemaker-gtc-2020/raytune/.results/2020-03-24_16-56-19__2020-03-24_16-56-19__<br>Number of trials: 1 (1 RUNNING)<br><table>\n",
       "<thead>\n",
       "<tr><th>Trial name      </th><th>status  </th><th>loc           </th><th style=\"text-align: right;\">  n_estimators</th><th style=\"text-align: right;\">  max_features</th><th style=\"text-align: right;\">  max_depth</th><th style=\"text-align: right;\">  total time (s)</th><th style=\"text-align: right;\">  iter</th></tr>\n",
       "</thead>\n",
       "<tbody>\n",
       "<tr><td>WrappedTrainable</td><td>RUNNING </td><td>172.17.0.2:664</td><td style=\"text-align: right;\">           344</td><td style=\"text-align: right;\">      0.521398</td><td style=\"text-align: right;\">          4</td><td style=\"text-align: right;\">         439.727</td><td style=\"text-align: right;\">    50</td></tr>\n",
       "</tbody>\n",
       "</table><br><br>"
      ],
      "text/plain": [
       "<IPython.core.display.HTML object>"
      ]
     },
     "metadata": {},
     "output_type": "display_data"
    },
    {
     "name": "stdout",
     "output_type": "stream",
     "text": [
      "\u001b[2m\u001b[36m(pid=664)\u001b[0m INFO:BaseTrainTransformer:test_accuracy: 0.7356129884719849\n"
     ]
    },
    {
     "data": {
      "text/html": [
       "== Status ==<br>Memory usage on this node: 12.5/45.8 GiB<br>PopulationBasedTraining: 0 checkpoints, 0 perturbs<br>Resources requested: 0/12 CPUs, 0/2 GPUs, 0.0/23.14 GiB heap, 0.0/7.96 GiB objects<br>Result logdir: /home/hyperopt/RayTune/aws-sagemaker-gtc-2020/raytune/.results/2020-03-24_16-56-19__2020-03-24_16-56-19__<br>Number of trials: 1 (1 TERMINATED)<br><table>\n",
       "<thead>\n",
       "<tr><th>Trial name      </th><th>status    </th><th>loc  </th><th style=\"text-align: right;\">  n_estimators</th><th style=\"text-align: right;\">  max_features</th><th style=\"text-align: right;\">  max_depth</th><th style=\"text-align: right;\">  total time (s)</th><th style=\"text-align: right;\">  iter</th></tr>\n",
       "</thead>\n",
       "<tbody>\n",
       "<tr><td>WrappedTrainable</td><td>TERMINATED</td><td>     </td><td style=\"text-align: right;\">           344</td><td style=\"text-align: right;\">      0.521398</td><td style=\"text-align: right;\">          4</td><td style=\"text-align: right;\">         439.727</td><td style=\"text-align: right;\">    50</td></tr>\n",
       "</tbody>\n",
       "</table><br><br>"
      ],
      "text/plain": [
       "<IPython.core.display.HTML object>"
      ]
     },
     "metadata": {},
     "output_type": "display_data"
    },
    {
     "name": "stderr",
     "output_type": "stream",
     "text": [
      "2020-03-24 17:03:44,168\tINFO tune.py:352 -- Returning an analysis object by default. You can call `analysis.trials` to retrieve a list of trials. This message will be removed in future versions of Tune.\n"
     ]
    }
   ],
   "source": [
    "class WrappedTrainable(BaseTrainTransformer):\n",
    "    def __init__(self, *args, **kwargs):\n",
    "\n",
    "        self._static_config = static_config\n",
    "\n",
    "        super().__init__(*args, **kwargs)\n",
    "\n",
    "analysis = tune.run(\n",
    "    WrappedTrainable,\n",
    "    name=exp_name,\n",
    "    scheduler=sched,\n",
    "    search_alg=search_alg,\n",
    "    stop={\n",
    "        \"training_iteration\": CV_folds,\n",
    "        \"is_bad\": True,\n",
    "    },\n",
    "    resources_per_trial={\n",
    "        \"cpu\": cpu_per_sample,\n",
    "        \"gpu\": int(compute == \"GPU\")\n",
    "    },\n",
    "    # loggers=ray.tune.logger.DEFAULT_LOGGERS,\n",
    "    num_samples=num_samples,\n",
    "    checkpoint_at_end=True,\n",
    "    # checkpoint_freq=5,\n",
    "    keep_checkpoints_num=1,\n",
    "    local_dir=\"./.results\",\n",
    "    trial_name_creator=trial_str_creator,\n",
    "    checkpoint_score_attr=\"test_accuracy\",\n",
    "    # reuse_actors=True,  # Set to true if reset_config() is implemented\n",
    "    config={\n",
    "        \"n_estimators\": tune.randint(n_estimators_range[0], n_estimators_range[1]),\n",
    "        \"max_depth\": tune.randint(max_depth_range[0], max_depth_range[1]),\n",
    "        \"max_features\": tune.loguniform(max_features_range[0], max_features_range[1]),\n",
    "        \"dataset_filename\": os.path.basename(local_dataset.train_path),\n",
    "        \"num_workers\": cpu_per_sample if compute == \"CPU\" else 1,\n",
    "    },\n",
    "    verbose=2,\n",
    "    raise_on_failed_trial=False)"
   ]
  },
  {
   "cell_type": "code",
   "execution_count": 9,
   "metadata": {},
   "outputs": [],
   "source": [
    "dfs = analysis.trial_dataframes"
   ]
  },
  {
   "cell_type": "code",
   "execution_count": 19,
   "metadata": {},
   "outputs": [
    {
     "data": {
      "image/png": "[encoded data removed]",
      "text/plain": [
       "<Figure size 432x288 with 1 Axes>"
      ]
     },
     "metadata": {
      "needs_background": "light"
     },
     "output_type": "display_data"
    }
   ],
   "source": [
    "# Plot by epoch\n",
    "ax = None  # This plots everything on the same plot\n",
    "for d in dfs.values():\n",
    "    ax = d.test_accuracy.plot(ax=ax, legend=False)"
   ]
  },
  {
   "cell_type": "code",
   "execution_count": 12,
   "metadata": {},
   "outputs": [
    {
     "name": "stdout",
     "output_type": "stream",
     "text": [
      "INFO:root:Total Duration (sec): 445.3388521671295\n",
      "INFO:root:Min Accuracy: 0.7356129884719849\n",
      "INFO:root:Max Accuracy: 0.7356129884719849\n",
      "INFO:root:Train Time (sec) [min, avg, max, std dev]: 8.63, 8.63, 8.63, nan\n",
      "INFO:root:Infer Time (sec) [min, avg, max, std dev]: 0.06, 0.06, 0.06, nan\n",
      "INFO:root:Best config is: {'n_estimators': 344, 'max_depth': 4, 'max_features': 0.5213979314086207, 'dataset_filename': 'airline_10000000.orc', 'num_workers': 1}\n",
      "INFO:root:Final Dataframe:\n",
      "INFO:root:,test_accuracy,train_time,infer_time,is_bad,done,timesteps_total,episodes_total,training_iteration,experiment_id,date,timestamp,time_this_iter_s,time_total_s,pid,hostname,node_ip,time_since_restore,timesteps_since_restore,iterations_since_restore,trial_id,experiment_tag,config/dataset_filename,config/max_depth,config/max_features,config/n_estimators,config/num_workers,logdir\n",
      "0,0.7356129884719849,8.6265,0.0609,False,True,,,50,48a4678dee104a0aaee9bd1544377e32,2020-03-24_17-03-44,1585069424,8.797547578811647,439.7265050411224,664,00b88c234adf,172.17.0.2,439.7265050411224,0,50,62721200.0,\"0_max_depth=4,max_features=0.5214,n_estimators=344\",airline_10000000.orc,4,0.5213979314086207,344,1,\"/home/hyperopt/RayTune/aws-sagemaker-gtc-2020/raytune/.results/2020-03-24_16-56-19__2020-03-24_16-56-19__/WrappedTrainable_0_max_depth=4,max_features=0.5214,n_estimators=344_2020-03-24_16-56-19n3q4k1uj\"\n",
      "\n"
     ]
    }
   ],
   "source": [
    "\n",
    "# Save info into experiment dir\n",
    "fh = logging.FileHandler(filename=os.path.join(analysis._experiment_dir, \"results.log\"))\n",
    "fh.setLevel(logging.DEBUG)\n",
    "\n",
    "# Add the file handler to the root logger\n",
    "logging.root.addHandler(fh)\n",
    "\n",
    "logging.info(\"Total Duration (sec): {}\".format(time.time() - start_time))\n",
    "\n",
    "logging.info(\"Min Accuracy: {}\".format(analysis.dataframe()[\"test_accuracy\"].min()))\n",
    "logging.info(\"Max Accuracy: {}\".format(analysis.dataframe()[\"test_accuracy\"].max()))\n",
    "\n",
    "train_time_df = analysis.dataframe()[\"train_time\"].round(2)\n",
    "logging.info(\"Train Time (sec) [min, avg, max, std dev]: {}, {}, {}, {}\".format(train_time_df.min(), train_time_df.mean(), train_time_df.max(),\n",
    "                                                                                train_time_df.std()))\n",
    "\n",
    "infer_time_df = analysis.dataframe()[\"infer_time\"].round(2)\n",
    "logging.info(\"Infer Time (sec) [min, avg, max, std dev]: {}, {}, {}, {}\".format(infer_time_df.min(), infer_time_df.mean(), infer_time_df.max(),\n",
    "                                                                                infer_time_df.std()))\n",
    "\n",
    "logging.info(\"Best config is: {}\".format(analysis.get_best_config(metric=\"test_accuracy\")))\n",
    "\n",
    "logging.info(\"Final Dataframe:\")\n",
    "logging.info(analysis.dataframe().to_csv())"
   ]
  },
  {
   "cell_type": "code",
   "execution_count": null,
   "metadata": {},
   "outputs": [],
   "source": []
  },
  {
   "cell_type": "code",
   "execution_count": null,
   "metadata": {},
   "outputs": [],
   "source": []
  }
 ],
 "metadata": {
  "kernelspec": {
   "display_name": "Python 3",
   "language": "python",
   "name": "python3"
  },
  "language_info": {
   "codemirror_mode": {
    "name": "ipython",
    "version": 3
   },
   "file_extension": ".py",
   "mimetype": "text/x-python",
   "name": "python",
   "nbconvert_exporter": "python",
   "pygments_lexer": "ipython3",
   "version": "3.6.10"
  }
 },
 "nbformat": 4,
 "nbformat_minor": 4
}
